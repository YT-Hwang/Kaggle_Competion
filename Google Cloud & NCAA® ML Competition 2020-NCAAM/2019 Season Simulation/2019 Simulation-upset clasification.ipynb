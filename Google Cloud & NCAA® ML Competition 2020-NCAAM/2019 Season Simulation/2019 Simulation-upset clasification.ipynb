{
 "cells": [
  {
   "cell_type": "markdown",
   "metadata": {},
   "source": [
    "# Overview"
   ]
  },
  {
   "cell_type": "markdown",
   "metadata": {
    "ExecuteTime": {
     "end_time": "2020-02-17T22:14:02.059084Z",
     "start_time": "2020-02-17T22:14:02.056083Z"
    }
   },
   "source": [
    "## What to Predict\n",
    "\n",
    "- Stage 1 - You should submit predicted probabilities for every possible matchup in the past 5 NCAA® tournaments (seasons 2015-2019).\n",
    "- Stage 2 - You should submit predicted probabilities for every possible matchup before the 2020 tournament begins.\n",
    "\n",
    "Refer to the [Timeline page](https://www.kaggle.com/c/google-cloud-ncaa-march-madness-2020-division-1-mens-tournament/overview/timeline) for specific dates. In both stages, the sample submission will tell you which games to predict."
   ]
  },
  {
   "cell_type": "markdown",
   "metadata": {
    "ExecuteTime": {
     "end_time": "2020-02-17T22:21:00.576973Z",
     "start_time": "2020-02-17T22:21:00.574983Z"
    },
    "heading_collapsed": true
   },
   "source": [
    "# Import Packages"
   ]
  },
  {
   "cell_type": "code",
   "execution_count": 1,
   "metadata": {
    "ExecuteTime": {
     "end_time": "2020-03-04T16:32:45.995504Z",
     "start_time": "2020-03-04T16:31:18.063836Z"
    },
    "hidden": true
   },
   "outputs": [],
   "source": [
    "import os\n",
    "\n",
    "########################################## basic packages\n",
    "\n",
    "import pandas as pd\n",
    "import numpy as np\n",
    "\n",
    "########################################## plotting packages\n",
    "\n",
    "# matplotlib\n",
    "import matplotlib.pylab as plt\n",
    "from matplotlib.pylab import rcParams\n",
    "%matplotlib inline\n",
    "rcParams['figure.figsize'] = 20, 6\n",
    "\n",
    "# Bokeh\n",
    "from bokeh.plotting import figure, show, output_notebook\n",
    "from bokeh.models import HoverTool, ColumnDataSource, CategoricalColorMapper\n",
    "from bokeh.palettes import Spectral6, Spectral10\n",
    "\n",
    "\n",
    "########################################## utility\n",
    "\n",
    "# To print multiple output in a single cell.\n",
    "from IPython.core.interactiveshell import InteractiveShell\n",
    "InteractiveShell.ast_node_interactivity = \"all\"\n",
    "\n",
    "########################################## Dimension Reduction\n",
    "import umap\n",
    "\n",
    "\n",
    "########################################## Modeling\n",
    "\n",
    "# Train Test Split\n",
    "from sklearn.model_selection import train_test_split\n",
    "\n",
    "# Scaler\n",
    "from sklearn.preprocessing import MinMaxScaler\n",
    "\n",
    "# Sklearn\n",
    "from sklearn import svm\n",
    "from sklearn.ensemble import GradientBoostingRegressor, RandomForestRegressor\n",
    "from sklearn.metrics import log_loss\n",
    "from sklearn.model_selection import train_test_split\n",
    "from sklearn.model_selection import GridSearchCV\n",
    "\n",
    "\n",
    "\n",
    "#from tsfresh.feature_extraction import feature_calculators as fc"
   ]
  },
  {
   "cell_type": "code",
   "execution_count": 2,
   "metadata": {
    "ExecuteTime": {
     "end_time": "2020-03-04T16:34:31.869918Z",
     "start_time": "2020-03-04T16:32:45.997505Z"
    },
    "hidden": true
   },
   "outputs": [
    {
     "name": "stderr",
     "output_type": "stream",
     "text": [
      "Using TensorFlow backend.\n"
     ]
    }
   ],
   "source": [
    "# Keras\n",
    "from keras.models import load_model\n",
    "from keras.models import Sequential, load_model\n",
    "from keras.layers import Dense, Dropout, Embedding, Masking, Conv1D, MaxPooling1D, Flatten, TimeDistributed, Conv2D, SimpleRNN\n",
    "from keras.optimizers import Adam\n",
    "from keras.utils import Sequence\n",
    "from keras.preprocessing.text import Tokenizer\n",
    "from keras.callbacks import EarlyStopping, ModelCheckpoint\n",
    "from keras.models import load_model\n",
    "\n",
    "\n",
    "from keras.wrappers.scikit_learn import KerasClassifier\n",
    "from sklearn.model_selection import cross_val_score\n",
    "from sklearn.preprocessing import LabelEncoder\n",
    "from sklearn.model_selection import StratifiedKFold\n",
    "from sklearn.preprocessing import StandardScaler\n",
    "from sklearn.pipeline import Pipeline\n"
   ]
  },
  {
   "cell_type": "markdown",
   "metadata": {
    "heading_collapsed": true
   },
   "source": [
    "# Data Download"
   ]
  },
  {
   "cell_type": "raw",
   "metadata": {
    "ExecuteTime": {
     "end_time": "2020-02-23T17:46:18.327483Z",
     "start_time": "2020-02-23T17:46:09.563463Z"
    },
    "code_folding": [],
    "hidden": true
   },
   "source": [
    "# Downloading the Data using Kaggle API\n",
    "!kaggle competitions download -c google-cloud-ncaa-march-madness-2020-division-1-mens-tournament"
   ]
  },
  {
   "cell_type": "markdown",
   "metadata": {
    "ExecuteTime": {
     "end_time": "2020-02-17T22:20:46.338242Z",
     "start_time": "2020-02-17T22:20:46.336242Z"
    },
    "heading_collapsed": true
   },
   "source": [
    "# Data Import"
   ]
  },
  {
   "cell_type": "code",
   "execution_count": 3,
   "metadata": {
    "ExecuteTime": {
     "end_time": "2020-03-04T16:34:31.876902Z",
     "start_time": "2020-03-04T16:34:31.871901Z"
    },
    "hidden": true
   },
   "outputs": [],
   "source": [
    "def get_file_list(datapath):\n",
    "    # create a list of file and sub directories \n",
    "    # names in the given directory \n",
    "    listOfFile = os.listdir(datapath)\n",
    "    allFiles = list()\n",
    "    # Iterate over all the entries\n",
    "    for entry in listOfFile:\n",
    "        # Create full path\n",
    "        fullPath = os.path.join(datapath, entry)\n",
    "        # If entry is a directory then get the list of files in this directory \n",
    "        if os.path.isdir(fullPath):\n",
    "            allFiles = allFiles + get_file_list(fullPath)\n",
    "        else:\n",
    "            allFiles.append(fullPath)\n",
    "                \n",
    "    return allFiles"
   ]
  },
  {
   "cell_type": "code",
   "execution_count": 5,
   "metadata": {
    "ExecuteTime": {
     "end_time": "2020-03-04T16:45:49.540802Z",
     "start_time": "2020-03-04T16:45:49.518796Z"
    },
    "hidden": true
   },
   "outputs": [
    {
     "data": {
      "text/plain": [
       "['F:\\\\OneDrive - Georgia State University\\\\Data Science\\\\Competition\\\\Data\\\\Google Cloud & NCAA® ML Competition 2019-NCAAM\\\\1Stage2DataFiles\\\\Cities.csv',\n",
       " 'F:\\\\OneDrive - Georgia State University\\\\Data Science\\\\Competition\\\\Data\\\\Google Cloud & NCAA® ML Competition 2019-NCAAM\\\\1Stage2DataFiles\\\\Conferences.csv',\n",
       " 'F:\\\\OneDrive - Georgia State University\\\\Data Science\\\\Competition\\\\Data\\\\Google Cloud & NCAA® ML Competition 2019-NCAAM\\\\1Stage2DataFiles\\\\ConferenceTourneyGames.csv',\n",
       " 'F:\\\\OneDrive - Georgia State University\\\\Data Science\\\\Competition\\\\Data\\\\Google Cloud & NCAA® ML Competition 2019-NCAAM\\\\1Stage2DataFiles\\\\GameCities.csv',\n",
       " 'F:\\\\OneDrive - Georgia State University\\\\Data Science\\\\Competition\\\\Data\\\\Google Cloud & NCAA® ML Competition 2019-NCAAM\\\\1Stage2DataFiles\\\\NCAATourneyCompactResults.csv',\n",
       " 'F:\\\\OneDrive - Georgia State University\\\\Data Science\\\\Competition\\\\Data\\\\Google Cloud & NCAA® ML Competition 2019-NCAAM\\\\1Stage2DataFiles\\\\NCAATourneyDetailedResults.csv',\n",
       " 'F:\\\\OneDrive - Georgia State University\\\\Data Science\\\\Competition\\\\Data\\\\Google Cloud & NCAA® ML Competition 2019-NCAAM\\\\1Stage2DataFiles\\\\NCAATourneySeedRoundSlots.csv',\n",
       " 'F:\\\\OneDrive - Georgia State University\\\\Data Science\\\\Competition\\\\Data\\\\Google Cloud & NCAA® ML Competition 2019-NCAAM\\\\1Stage2DataFiles\\\\NCAATourneySeeds.csv',\n",
       " 'F:\\\\OneDrive - Georgia State University\\\\Data Science\\\\Competition\\\\Data\\\\Google Cloud & NCAA® ML Competition 2019-NCAAM\\\\1Stage2DataFiles\\\\NCAATourneySlots.csv',\n",
       " 'F:\\\\OneDrive - Georgia State University\\\\Data Science\\\\Competition\\\\Data\\\\Google Cloud & NCAA® ML Competition 2019-NCAAM\\\\1Stage2DataFiles\\\\RegularSeasonCompactResults.csv',\n",
       " 'F:\\\\OneDrive - Georgia State University\\\\Data Science\\\\Competition\\\\Data\\\\Google Cloud & NCAA® ML Competition 2019-NCAAM\\\\1Stage2DataFiles\\\\RegularSeasonDetailedResults.csv',\n",
       " 'F:\\\\OneDrive - Georgia State University\\\\Data Science\\\\Competition\\\\Data\\\\Google Cloud & NCAA® ML Competition 2019-NCAAM\\\\1Stage2DataFiles\\\\SampleSubmissionStage2.csv',\n",
       " 'F:\\\\OneDrive - Georgia State University\\\\Data Science\\\\Competition\\\\Data\\\\Google Cloud & NCAA® ML Competition 2019-NCAAM\\\\1Stage2DataFiles\\\\Seasons.csv',\n",
       " 'F:\\\\OneDrive - Georgia State University\\\\Data Science\\\\Competition\\\\Data\\\\Google Cloud & NCAA® ML Competition 2019-NCAAM\\\\1Stage2DataFiles\\\\SecondaryTourneyCompactResults.csv',\n",
       " 'F:\\\\OneDrive - Georgia State University\\\\Data Science\\\\Competition\\\\Data\\\\Google Cloud & NCAA® ML Competition 2019-NCAAM\\\\1Stage2DataFiles\\\\SecondaryTourneyTeams.csv',\n",
       " 'F:\\\\OneDrive - Georgia State University\\\\Data Science\\\\Competition\\\\Data\\\\Google Cloud & NCAA® ML Competition 2019-NCAAM\\\\1Stage2DataFiles\\\\TeamCoaches.csv',\n",
       " 'F:\\\\OneDrive - Georgia State University\\\\Data Science\\\\Competition\\\\Data\\\\Google Cloud & NCAA® ML Competition 2019-NCAAM\\\\1Stage2DataFiles\\\\TeamConferences.csv',\n",
       " 'F:\\\\OneDrive - Georgia State University\\\\Data Science\\\\Competition\\\\Data\\\\Google Cloud & NCAA® ML Competition 2019-NCAAM\\\\1Stage2DataFiles\\\\Teams.csv',\n",
       " 'F:\\\\OneDrive - Georgia State University\\\\Data Science\\\\Competition\\\\Data\\\\Google Cloud & NCAA® ML Competition 2019-NCAAM\\\\1Stage2DataFiles\\\\TeamSpellings.csv']"
      ]
     },
     "execution_count": 5,
     "metadata": {},
     "output_type": "execute_result"
    },
    {
     "data": {
      "text/plain": [
       "['F:\\\\OneDrive - Georgia State University\\\\Data Science\\\\Competition\\\\Data\\\\Google Cloud & NCAA® ML Competition 2019-NCAAM\\\\DataFiles\\\\Cities.csv',\n",
       " 'F:\\\\OneDrive - Georgia State University\\\\Data Science\\\\Competition\\\\Data\\\\Google Cloud & NCAA® ML Competition 2019-NCAAM\\\\DataFiles\\\\Conferences.csv',\n",
       " 'F:\\\\OneDrive - Georgia State University\\\\Data Science\\\\Competition\\\\Data\\\\Google Cloud & NCAA® ML Competition 2019-NCAAM\\\\DataFiles\\\\ConferenceTourneyGames.csv',\n",
       " 'F:\\\\OneDrive - Georgia State University\\\\Data Science\\\\Competition\\\\Data\\\\Google Cloud & NCAA® ML Competition 2019-NCAAM\\\\DataFiles\\\\GameCities.csv',\n",
       " 'F:\\\\OneDrive - Georgia State University\\\\Data Science\\\\Competition\\\\Data\\\\Google Cloud & NCAA® ML Competition 2019-NCAAM\\\\DataFiles\\\\NCAATourneyCompactResults.csv',\n",
       " 'F:\\\\OneDrive - Georgia State University\\\\Data Science\\\\Competition\\\\Data\\\\Google Cloud & NCAA® ML Competition 2019-NCAAM\\\\DataFiles\\\\NCAATourneyDetailedResults.csv',\n",
       " 'F:\\\\OneDrive - Georgia State University\\\\Data Science\\\\Competition\\\\Data\\\\Google Cloud & NCAA® ML Competition 2019-NCAAM\\\\DataFiles\\\\NCAATourneySeedRoundSlots.csv',\n",
       " 'F:\\\\OneDrive - Georgia State University\\\\Data Science\\\\Competition\\\\Data\\\\Google Cloud & NCAA® ML Competition 2019-NCAAM\\\\DataFiles\\\\NCAATourneySeeds.csv',\n",
       " 'F:\\\\OneDrive - Georgia State University\\\\Data Science\\\\Competition\\\\Data\\\\Google Cloud & NCAA® ML Competition 2019-NCAAM\\\\DataFiles\\\\NCAATourneySlots.csv',\n",
       " 'F:\\\\OneDrive - Georgia State University\\\\Data Science\\\\Competition\\\\Data\\\\Google Cloud & NCAA® ML Competition 2019-NCAAM\\\\DataFiles\\\\RegularSeasonCompactResults.csv',\n",
       " 'F:\\\\OneDrive - Georgia State University\\\\Data Science\\\\Competition\\\\Data\\\\Google Cloud & NCAA® ML Competition 2019-NCAAM\\\\DataFiles\\\\RegularSeasonDetailedResults.csv',\n",
       " 'F:\\\\OneDrive - Georgia State University\\\\Data Science\\\\Competition\\\\Data\\\\Google Cloud & NCAA® ML Competition 2019-NCAAM\\\\DataFiles\\\\Seasons.csv',\n",
       " 'F:\\\\OneDrive - Georgia State University\\\\Data Science\\\\Competition\\\\Data\\\\Google Cloud & NCAA® ML Competition 2019-NCAAM\\\\DataFiles\\\\SecondaryTourneyCompactResults.csv',\n",
       " 'F:\\\\OneDrive - Georgia State University\\\\Data Science\\\\Competition\\\\Data\\\\Google Cloud & NCAA® ML Competition 2019-NCAAM\\\\DataFiles\\\\SecondaryTourneyTeams.csv',\n",
       " 'F:\\\\OneDrive - Georgia State University\\\\Data Science\\\\Competition\\\\Data\\\\Google Cloud & NCAA® ML Competition 2019-NCAAM\\\\DataFiles\\\\TeamCoaches.csv',\n",
       " 'F:\\\\OneDrive - Georgia State University\\\\Data Science\\\\Competition\\\\Data\\\\Google Cloud & NCAA® ML Competition 2019-NCAAM\\\\DataFiles\\\\TeamConferences.csv',\n",
       " 'F:\\\\OneDrive - Georgia State University\\\\Data Science\\\\Competition\\\\Data\\\\Google Cloud & NCAA® ML Competition 2019-NCAAM\\\\DataFiles\\\\Teams.csv',\n",
       " 'F:\\\\OneDrive - Georgia State University\\\\Data Science\\\\Competition\\\\Data\\\\Google Cloud & NCAA® ML Competition 2019-NCAAM\\\\DataFiles\\\\TeamSpellings.csv']"
      ]
     },
     "execution_count": 5,
     "metadata": {},
     "output_type": "execute_result"
    },
    {
     "data": {
      "text/plain": [
       "['F:\\\\OneDrive - Georgia State University\\\\Data Science\\\\Competition\\\\Data\\\\Google Cloud & NCAA® ML Competition 2019-NCAAM\\\\MasseyOrdinals\\\\MasseyOrdinals.csv']"
      ]
     },
     "execution_count": 5,
     "metadata": {},
     "output_type": "execute_result"
    }
   ],
   "source": [
    "main_path = 'F:\\\\OneDrive - Georgia State University\\\\Data Science\\\\Competition\\\\Data\\\\Google Cloud & NCAA® ML Competition 2019-NCAAM\\\\'\n",
    "\n",
    "sub_folders = os.listdir(main_path)\n",
    "path1 = main_path + sub_folders[0] + '\\\\'\n",
    "path2 = main_path + sub_folders[1] + '\\\\'\n",
    "path3 = main_path + sub_folders[2] + '\\\\'\n",
    "\n",
    "saving_path = main_path + sub_folders[0] + '\\\\'\n",
    "\n",
    "\n",
    "# Get the list of all files in directory tree at given path\n",
    "data_list1 = get_file_list(path1)\n",
    "data_list2 = get_file_list(path2)\n",
    "data_list3 = get_file_list(path3)\n",
    "\n",
    "\n",
    "data_list1\n",
    "data_list2\n",
    "data_list3"
   ]
  },
  {
   "cell_type": "code",
   "execution_count": null,
   "metadata": {
    "ExecuteTime": {
     "end_time": "2020-03-04T16:34:32.658366Z",
     "start_time": "2020-03-04T16:31:18.120Z"
    },
    "hidden": true
   },
   "outputs": [],
   "source": [
    "tourney_compact_result_M = pd.read_csv(path1 + 'NCAATourneyCompactResults.csv')\n",
    "tourney_detailed_result_M = pd.read_csv(path1 + 'NCAATourneyDetailedResults.csv')\n",
    "\n",
    "tourney_seed_M = pd.read_csv(path1 + 'NCAATourneySeeds.csv')\n",
    "\n",
    "regular_compact_result_M = pd.read_csv(path1 + 'RegularSeasonCompactResults.csv')\n",
    "regular_detailed_result_M = pd.read_csv(path1 + 'RegularSeasonDetailedResults.csv')\n",
    "\n",
    "season_M = pd.read_csv(path1 + 'Seasons.csv')\n",
    "teams_M = pd.read_csv(path1 + 'Teams.csv')\n",
    "\n",
    "submission_file = pd.read_csv(path1 + 'SampleSubmissionStage2.csv')\n",
    "\n",
    "cities_game_M = pd.read_csv(path1 + 'GameCities.csv')\n",
    "cities = pd.read_csv(path1 + 'Cities.csv')"
   ]
  },
  {
   "cell_type": "markdown",
   "metadata": {
    "heading_collapsed": true
   },
   "source": [
    "# Data Preparation"
   ]
  },
  {
   "cell_type": "markdown",
   "metadata": {
    "hidden": true
   },
   "source": [
    "## WTeam and LTeam ----> Team and Opp_Team and Result \n",
    "\n",
    "for both tourney_compact_result and regular_detailed_result"
   ]
  },
  {
   "cell_type": "markdown",
   "metadata": {
    "hidden": true
   },
   "source": [
    "### Tourney_Compact_Result"
   ]
  },
  {
   "cell_type": "code",
   "execution_count": null,
   "metadata": {
    "ExecuteTime": {
     "end_time": "2020-03-04T16:34:32.659366Z",
     "start_time": "2020-03-04T16:31:18.130Z"
    },
    "hidden": true
   },
   "outputs": [],
   "source": [
    "# create a column indicating that the data is from regular seasons or tournaments.\n",
    "tourney_compact_result_M['CRType'] = \"NCAA\"\n",
    "\n",
    "tourney_winners = tourney_compact_result_M.copy()\n",
    "tourney_winners['Result'] = 1\n",
    "tourney_winners = tourney_winners.rename(columns={\"WTeamID\": \"TeamID\", \"LTeamID\": \"Opp_TeamID\", \"WScore\": \"Score\", \"LScore\": \"Opp_Score\", \"WLoc\":\"Loc\"})\n",
    "len(tourney_winners)\n",
    "\n",
    "tourney_losers = tourney_compact_result_M.copy()\n",
    "tourney_losers['Result'] = 0\n",
    "tourney_losers = tourney_losers.rename(columns={\"LTeamID\": \"TeamID\", \"WTeamID\": \"Opp_TeamID\", \"LScore\": \"Score\", \"WScore\": \"Opp_Score\", \"WLoc\":\"Loc\"})\n",
    "\n",
    "\n",
    "\n",
    "len(tourney_losers)\n",
    "\n",
    "\n",
    "tourney_compact_result_M = pd.concat([tourney_winners, tourney_losers])\n",
    "tourney_compact_result_M"
   ]
  },
  {
   "cell_type": "markdown",
   "metadata": {
    "hidden": true
   },
   "source": [
    "### Regular_Detailed_Result"
   ]
  },
  {
   "cell_type": "code",
   "execution_count": null,
   "metadata": {
    "ExecuteTime": {
     "end_time": "2020-03-04T16:34:32.660366Z",
     "start_time": "2020-03-04T16:31:18.137Z"
    },
    "hidden": true
   },
   "outputs": [],
   "source": [
    "# create a column indicating that the data is from regular seasons.\n",
    "regular_detailed_result_M['CRType'] = \"Regular\"\n",
    "\n",
    "regular_winners = regular_detailed_result_M.copy()\n",
    "regular_winners['Result'] = 1\n",
    "regular_winners = regular_winners.rename(columns={'WTeamID':'TeamID', 'WScore':'Score', 'LTeamID':'Opp_TeamID', 'LScore':'Opp_Score', 'WLoc':'Loc', 'WFGM':'FGM', \n",
    "                                                  'WFGA':'FGA', 'WFGM3':'FGM3', 'WFGA3':'FGA3', 'WFTM':'FTM', 'WFTA':'FTA', 'WOR':'OR', \n",
    "                                                  'WDR':'DR', 'WAst':'Ast', 'WTO':'TO', 'WStl':'Stl', 'WBlk':'Blk', 'WPF':'PF', 'LFGM': 'Opp_FGM', \n",
    "                                                  'LFGA': 'Opp_FGA', 'LFGM3':'Opp_FGM3', 'LFGA3':'Opp_FGA3', 'LFTM':'Opp_FTM', 'LFTA':'Opp_FTA', \n",
    "                                                  'LOR':'Opp_OR', 'LDR':'Opp_DR', 'LAst':'Opp_Ast', 'LTO':'Opp_TO', 'LStl': 'Opp_Stl', \n",
    "                                                  'LBlk':'Opp_Blk', 'LPF':'Opp_PF'\n",
    "                                               })\n",
    "    \n",
    "len(regular_winners)\n",
    "\n",
    "\n",
    "\n",
    "\n",
    "\n",
    "regular_losers = regular_detailed_result_M.copy()\n",
    "regular_losers['Result'] = 0\n",
    "regular_losers = regular_losers.rename(columns={'LTeamID':'TeamID', 'LScore':'Score', 'WTeamID':'Opp_TeamID', 'WScore':'Opp_Score', 'WLoc':'Loc', 'LFGM':'FGM', \n",
    "                                                  'LFGA':'FGA', 'LFGM3':'FGM3', 'LFGA3':'FGA3', 'LFTM':'FTM', 'LFTA':'FTA', 'LOR':'OR', \n",
    "                                                  'LDR':'DR', 'LAst':'Ast', 'LTO':'TO', 'LStl':'Stl', 'LBlk':'Blk', 'LPF':'PF', 'WFGM': 'Opp_FGM', \n",
    "                                                  'WFGA': 'Opp_FGA', 'WFGM3':'Opp_FGM3', 'WFGA3':'Opp_FGA3', 'WFTM':'Opp_FTM', 'WFTA':'Opp_FTA', \n",
    "                                                  'WOR':'Opp_OR', 'WDR':'Opp_DR', 'WAst':'Opp_Ast', 'WTO':'Opp_TO', 'WStl': 'Opp_Stl', \n",
    "                                                  'WBlk':'Opp_Blk', 'WPF':'Opp_PF'\n",
    "                                               })\n",
    "len(regular_losers)\n",
    "\n",
    "\n",
    "regular_detailed_result_M = pd.concat([regular_winners, regular_losers])\n",
    "regular_detailed_result_M"
   ]
  },
  {
   "cell_type": "markdown",
   "metadata": {
    "hidden": true
   },
   "source": [
    "## Get the Team Season Data from the Regular_Detailed_Result table"
   ]
  },
  {
   "cell_type": "code",
   "execution_count": null,
   "metadata": {
    "ExecuteTime": {
     "end_time": "2020-03-04T16:34:32.661377Z",
     "start_time": "2020-03-04T16:31:18.142Z"
    },
    "hidden": true
   },
   "outputs": [],
   "source": [
    "tourney_compact_result_M.columns\n",
    "regular_detailed_result_M.columns"
   ]
  },
  {
   "cell_type": "markdown",
   "metadata": {
    "hidden": true
   },
   "source": [
    "### Total Results during season"
   ]
  },
  {
   "cell_type": "markdown",
   "metadata": {
    "hidden": true
   },
   "source": [
    "#### Stats for the games won"
   ]
  },
  {
   "cell_type": "code",
   "execution_count": null,
   "metadata": {
    "ExecuteTime": {
     "end_time": "2020-03-04T16:34:32.662366Z",
     "start_time": "2020-03-04T16:31:18.152Z"
    },
    "hidden": true
   },
   "outputs": [],
   "source": [
    "# Get the Total Results per team per seaon from the regular season data\n",
    "winning_stats = regular_detailed_result_M[regular_detailed_result_M['Result'] == 1]\n",
    "winning_stats.drop(['Loc', 'CRType'], axis = 1, inplace=True)\n",
    "\n",
    "# Sum\n",
    "winning_stats_total = winning_stats.groupby(['Season', 'TeamID']).sum()\n",
    "winning_stats_total = winning_stats_total.drop(['DayNum', 'Opp_TeamID', 'Result'], axis = 1)\n",
    "\n",
    "\n",
    "# Avg per game\n",
    "winning_stats_avg = winning_stats.groupby(['Season', 'TeamID']).sum()\n",
    "winning_stats_avg = winning_stats_avg.iloc[:,:].div(winning_stats_avg.Result, axis=0)\n",
    "winning_stats_avg = winning_stats_avg.drop(['DayNum', 'Opp_TeamID', 'Result'], axis = 1)\n",
    "\n",
    "\n",
    "# Add Prefix\n",
    "winning_stats_total = winning_stats_total.add_prefix('WT_') \n",
    "winning_stats_avg = winning_stats_avg.add_prefix('WA_') \n",
    "\n",
    "winning_stats_total.reset_index(inplace=True)\n",
    "winning_stats_avg.reset_index(inplace=True)\n",
    "\n",
    "winning_stats_total\n",
    "winning_stats_avg"
   ]
  },
  {
   "cell_type": "markdown",
   "metadata": {
    "hidden": true
   },
   "source": [
    "#### Stats for the games lost"
   ]
  },
  {
   "cell_type": "code",
   "execution_count": null,
   "metadata": {
    "ExecuteTime": {
     "end_time": "2020-03-04T16:34:32.663367Z",
     "start_time": "2020-03-04T16:31:18.160Z"
    },
    "hidden": true
   },
   "outputs": [],
   "source": [
    "# Get the Total Results per team per seaon from the regular season data\n",
    "Lost_stats = regular_detailed_result_M[regular_detailed_result_M['Result'] == 0]\n",
    "Lost_stats.drop(['Loc', 'CRType'], axis = 1, inplace=True)\n",
    "Lost_stats['Result'] = 1\n",
    "\n",
    "# Sum\n",
    "Lost_stats_total = Lost_stats.groupby(['Season', 'TeamID']).sum()\n",
    "Lost_stats_total = Lost_stats_total.drop(['DayNum', 'Opp_TeamID', 'Result'], axis = 1)\n",
    "\n",
    "\n",
    "# Avg per game\n",
    "Lost_stats_avg = Lost_stats.groupby(['Season', 'TeamID']).sum()\n",
    "Lost_stats_avg = Lost_stats_avg.iloc[:,:].div(Lost_stats_avg.Result, axis=0)\n",
    "Lost_stats_avg = Lost_stats_avg.drop(['DayNum', 'Opp_TeamID', 'Result'], axis = 1)\n",
    "\n",
    "\n",
    "# Add Prefix\n",
    "Lost_stats_total = Lost_stats_total.add_prefix('LT_') \n",
    "Lost_stats_avg = Lost_stats_avg.add_prefix('LA_') \n",
    "\n",
    "Lost_stats_total.reset_index(inplace=True)\n",
    "Lost_stats_avg.reset_index(inplace=True)\n",
    "\n",
    "Lost_stats_total\n",
    "Lost_stats_avg"
   ]
  },
  {
   "cell_type": "markdown",
   "metadata": {
    "hidden": true
   },
   "source": [
    "#### Stats all together"
   ]
  },
  {
   "cell_type": "code",
   "execution_count": null,
   "metadata": {
    "ExecuteTime": {
     "end_time": "2020-03-04T16:34:32.663367Z",
     "start_time": "2020-03-04T16:31:18.169Z"
    },
    "hidden": true
   },
   "outputs": [],
   "source": [
    "# Get the Total Results per team per seaon from the regular season data\n",
    "all_stats = regular_detailed_result_M.copy()\n",
    "all_stats.drop(['Loc', 'CRType'], axis = 1, inplace=True)\n",
    "\n",
    "\n",
    "# Sum\n",
    "all_stats_total = all_stats.groupby(['Season', 'TeamID']).sum()\n",
    "all_stats_total = all_stats_total.drop(['DayNum', 'Opp_TeamID', 'Result'], axis = 1)\n",
    "\n",
    "\n",
    "# Avg per game\n",
    "all_stats_avg = all_stats.groupby(['Season', 'TeamID']).sum()\n",
    "all_stats_avg = all_stats_avg.iloc[:,:].div(all_stats_avg.Result, axis=0)\n",
    "all_stats_avg = all_stats_avg.drop(['DayNum', 'Opp_TeamID', 'Result'], axis = 1)\n",
    "\n",
    "\n",
    "\n",
    "# Add Prefix\n",
    "all_stats_total = all_stats_total.add_prefix('AT_') \n",
    "all_stats_avg = all_stats_avg.add_prefix('AA_') \n",
    "\n",
    "all_stats_total.reset_index(inplace=True)\n",
    "all_stats_avg.reset_index(inplace=True)\n",
    "\n",
    "\n",
    "all_stats_total\n",
    "all_stats_avg"
   ]
  },
  {
   "cell_type": "markdown",
   "metadata": {
    "hidden": true
   },
   "source": [
    "### Seed Info"
   ]
  },
  {
   "cell_type": "code",
   "execution_count": null,
   "metadata": {
    "ExecuteTime": {
     "end_time": "2020-03-04T16:34:32.664367Z",
     "start_time": "2020-03-04T16:31:18.175Z"
    },
    "hidden": true
   },
   "outputs": [],
   "source": [
    "tourney_seed_M"
   ]
  },
  {
   "cell_type": "code",
   "execution_count": null,
   "metadata": {
    "ExecuteTime": {
     "end_time": "2020-03-04T16:34:32.665367Z",
     "start_time": "2020-03-04T16:31:18.181Z"
    },
    "hidden": true
   },
   "outputs": [],
   "source": [
    "# Seed Data\n",
    "tourney_seed_M['CRType'] = 'NCAA' # create a column in seed table to merge only on NCAA data.\n",
    "tourney_M = pd.merge(tourney_compact_result_M, tourney_seed_M, how = 'left', left_on=['Season', 'TeamID', 'CRType'], right_on=['Season','TeamID', 'CRType'])\n",
    "\n",
    "tourney_M['Seed_Group'] = tourney_M['Seed'].apply(lambda x: x[0] if (np.all(pd.notnull(x))) else x)\n",
    "tourney_M['Seed_Number'] = tourney_M['Seed'].apply(lambda x: x[1:3] if (np.all(pd.notnull(x))) else x)\n",
    "tourney_M.drop('Seed', axis = 1, inplace =True)\n",
    "\n",
    "# Opp Seed Data\n",
    "opp_team_name = tourney_seed_M.rename(columns={\"TeamID\": \"Opp_TeamID\"})\n",
    "tourney_M = pd.merge(tourney_M, opp_team_name, how = 'left', left_on=['Season', 'Opp_TeamID', 'CRType'], right_on=['Season','Opp_TeamID', 'CRType'])\n",
    "tourney_M['Opp_Seed_Group'] = tourney_M['Seed'].apply(lambda x: x[0] if (np.all(pd.notnull(x))) else x)\n",
    "tourney_M['Opp_Seed_Number'] = tourney_M['Seed'].apply(lambda x: x[1:3] if (np.all(pd.notnull(x))) else x)\n",
    "tourney_M.drop('Seed', axis = 1, inplace =True)\n",
    "\n",
    "# Seed Difference\n",
    "# convert some columns to numeric\n",
    "tourney_M = tourney_M.astype({\"Seed_Number\": int, \"Opp_Seed_Number\": int}, errors='ignore')\n",
    "tourney_M['Seed_diff'] = tourney_M['Seed_Number'] - tourney_M['Opp_Seed_Number']\n",
    "#training_data['Score_diff'] = training_data['Score'] - training_data['Opp_Score']\n",
    "\n",
    "tourney_M"
   ]
  },
  {
   "cell_type": "markdown",
   "metadata": {
    "ExecuteTime": {
     "end_time": "2020-02-28T08:32:20.527426Z",
     "start_time": "2020-02-28T08:32:20.523425Z"
    },
    "hidden": true
   },
   "source": [
    "### Wining Rates"
   ]
  },
  {
   "cell_type": "markdown",
   "metadata": {
    "hidden": true
   },
   "source": [
    "#### ALltime under Construction\n",
    "\n",
    "    - It should be rolling. 2015 data must include the prior seasons, but not the seasons after 2015. "
   ]
  },
  {
   "cell_type": "raw",
   "metadata": {
    "hidden": true
   },
   "source": [
    "############################################### All Time WinRate\n",
    "# Get summary by team match-ups\n",
    "Season, TeamID, Opp_TeamID, Result = tourney_M_dummies['Season'], tourney_M_dummies['TeamID'], tourney_M_dummies['Opp_TeamID'], tourney_M_dummies['Result']\n",
    "\n",
    "alltime_winrate = pd.DataFrame(data={'Season':Season, 'TeamID':TeamID, 'Opp_TeamID':Opp_TeamID, 'Result':Result}, dtype='int')\n",
    "alltime_winrate = pd.DataFrame(alltime_winrate.apply(lambda x : reorder_team(x['Season'],x['TeamID'], x['Opp_TeamID'], x['Result']),axis=1).to_list(), \n",
    "                  columns=alltime_winrate.columns)\n",
    "\n",
    "\n",
    "alltime_winrate_summary = alltime_winrate.groupby(['TeamID','Opp_TeamID']).agg(['sum','count'])\n",
    "alltime_winrate_summary.columns = ['Wins', 'Total']\n",
    "\n",
    "alltime_winrate_summary.reset_index(inplace=True)\n",
    "alltime_winrate_summary['Alltime_Team_Winrate'] = (alltime_winrate_summary['Wins'] / alltime_winrate_summary['Total'])\n",
    "\n",
    "alltime_winrate_summary['Alltime_Opp_Team_Winrate'] = 1 - alltime_winrate_summary['Alltime_Team_Winrate']\n",
    "alltime_winrate_summary = alltime_winrate_summary.sort_values('Total', ascending=False)\n",
    "\n",
    "\n",
    "Alltime_win_rate1 = alltime_winrate_summary[['TeamID', 'Opp_TeamID', 'Alltime_Team_Winrate', 'Alltime_Opp_Team_Winrate']]\n",
    "Alltime_win_rate2 = Alltime_win_rate1.copy()\n",
    "Alltime_win_rate2 = Alltime_win_rate2.rename(columns={'Alltime_Team_Winrate':'Alltime_Opp_Team_Winrate', 'Alltime_Opp_Team_Winrate':'Alltime_Team_Winrate', 'TeamID':'Opp_TeamID', 'Opp_TeamID':'TeamID'})\n",
    "Alltime_win_rate = pd.concat([Alltime_win_rate1, Alltime_win_rate2], axis=0, sort=True)\n",
    "\n",
    "#tourney_M = pd.merge(tourney_M, Alltime_win_rate,  how='left', on=['TeamID','Opp_TeamID'])"
   ]
  },
  {
   "cell_type": "markdown",
   "metadata": {
    "hidden": true
   },
   "source": [
    "#### For now, intra season only included in the Training Set"
   ]
  },
  {
   "cell_type": "code",
   "execution_count": null,
   "metadata": {
    "ExecuteTime": {
     "end_time": "2020-03-04T16:34:32.666368Z",
     "start_time": "2020-03-04T16:31:18.266Z"
    },
    "hidden": true
   },
   "outputs": [],
   "source": [
    "regular_dummies = pd.get_dummies(regular_detailed_result_M.copy())\n",
    "\n",
    "# win rate\n",
    "def reorder_team(Season, TeamID, Opp_TeamID, Result):\n",
    "\n",
    "    if TeamID > Opp_TeamID:\n",
    "        TeamID, Opp_TeamID = Opp_TeamID, TeamID\n",
    "        Result = 1 - Result\n",
    "\n",
    "    return Season, TeamID, Opp_TeamID, Result\n",
    "\n",
    "############################################### Alltime WinRate goes below, then replace the tourney_M_dummies with the alltime df at the very last line of this cell, merging part:\n",
    "\n",
    "############################################### IntraSeason WinRate\n",
    "# Get summary by team match-ups\n",
    "Season, TeamID, Opp_TeamID, Result = regular_dummies['Season'], regular_dummies['TeamID'], regular_dummies['Opp_TeamID'], regular_dummies['Result']\n",
    "\n",
    "intra_season_winrate = pd.DataFrame(data={'Season':Season, 'TeamID':TeamID,'Opp_TeamID':Opp_TeamID,'Result':Result}, dtype='int')\n",
    "intra_season_winrate = pd.DataFrame(intra_season_winrate.apply(lambda x : reorder_team(x['Season'], x['TeamID'], x['Opp_TeamID'], x['Result']),axis=1).to_list(), \n",
    "                  columns=intra_season_winrate.columns)\n",
    "\n",
    "\n",
    "intra_season_winrate_summary = intra_season_winrate.groupby(['Season','TeamID','Opp_TeamID']).agg(['sum','count'])\n",
    "intra_season_winrate_summary.columns = ['Wins_Season', 'Total_Season']\n",
    "\n",
    "intra_season_winrate_summary.reset_index(inplace=True)\n",
    "intra_season_winrate_summary['IntraSeason_Team_Winrate'] = (intra_season_winrate_summary['Wins_Season'] / intra_season_winrate_summary['Total_Season'])\n",
    "\n",
    "intra_season_winrate_summary['IntraSeason_Opp_Team_Winrate'] = 1 - intra_season_winrate_summary['IntraSeason_Team_Winrate']\n",
    "intra_season_winrate_summary = intra_season_winrate_summary.sort_values('Total_Season', ascending=False)\n",
    "\n",
    "\n",
    "IntraSeason_win_rate1 = intra_season_winrate_summary[['Season', 'TeamID', 'Opp_TeamID','IntraSeason_Team_Winrate', 'IntraSeason_Opp_Team_Winrate']]\n",
    "IntraSeason_win_rate2 = IntraSeason_win_rate1.copy()\n",
    "IntraSeason_win_rate2 = IntraSeason_win_rate2.rename(columns={'IntraSeason_Team_Winrate':'IntraSeason_Opp_Team_Winrate', 'IntraSeason_Opp_Team_Winrate':'IntraSeason_Team_Winrate', 'TeamID':'Opp_TeamID', 'Opp_TeamID':'TeamID'})\n",
    "IntraSeason_win_rate = pd.concat([IntraSeason_win_rate1, IntraSeason_win_rate2], axis=0, sort=True)\n",
    "\n",
    "#WinningRates = pd.merge(tourney_M_dummies, IntraSeason_win_rate,  how='left', on=['Season','TeamID','Opp_TeamID'])\n",
    "#WinningRates.fillna(0.5, inplace=True)\n",
    "#WinningRates\n",
    "\n",
    "IntraSeason_win_rate"
   ]
  },
  {
   "cell_type": "markdown",
   "metadata": {
    "hidden": true
   },
   "source": [
    "### Put Everything Together"
   ]
  },
  {
   "cell_type": "code",
   "execution_count": null,
   "metadata": {
    "ExecuteTime": {
     "end_time": "2020-03-04T16:34:32.667367Z",
     "start_time": "2020-03-04T16:31:18.273Z"
    },
    "hidden": true
   },
   "outputs": [],
   "source": [
    "#### Team 1 Data Merging\n",
    "tourney_M_dummies = pd.get_dummies(tourney_M.copy())\n",
    "\n",
    "\n",
    "Team1 = tourney_M_dummies.copy()\n",
    "\n",
    "Team1 = pd.merge(Team1, winning_stats_total,  how='left', on=['Season','TeamID'])\n",
    "Team1 = pd.merge(Team1, winning_stats_avg,  how='left', on=['Season','TeamID'])\n",
    "Team1 = pd.merge(Team1, Lost_stats_total,  how='left', on=['Season','TeamID'])\n",
    "Team1 = pd.merge(Team1, Lost_stats_avg,  how='left', on=['Season','TeamID'])\n",
    "Team1 = pd.merge(Team1, all_stats_total,  how='left', on=['Season','TeamID'])\n",
    "Team1 = pd.merge(Team1, all_stats_avg,  how='left', on=['Season','TeamID'])\n",
    "\n",
    "#### Team 2 Data Merging on the Team 1 Data\n",
    "opp_winning_stats_total = winning_stats_total.rename(columns={\"TeamID\": \"Opp_TeamID\"})\n",
    "opp_winning_stats_avg = winning_stats_avg.rename(columns={\"TeamID\": \"Opp_TeamID\"})\n",
    "opp_Lost_stats_total = Lost_stats_total.rename(columns={\"TeamID\": \"Opp_TeamID\"})\n",
    "opp_Lost_stats_avg = Lost_stats_avg.rename(columns={\"TeamID\": \"Opp_TeamID\"})\n",
    "opp_all_stats_total = all_stats_total.rename(columns={\"TeamID\": \"Opp_TeamID\"})\n",
    "opp_all_stats_avg = all_stats_avg.rename(columns={\"TeamID\": \"Opp_TeamID\"})\n",
    "\n",
    "Team2 = pd.merge(Team1, opp_winning_stats_total,  how='left', on=['Season','Opp_TeamID'])\n",
    "Team2 = pd.merge(Team2, opp_winning_stats_avg,  how='left', on=['Season','Opp_TeamID'])\n",
    "Team2 = pd.merge(Team2, opp_Lost_stats_total,  how='left', on=['Season','Opp_TeamID'])\n",
    "Team2 = pd.merge(Team2, opp_Lost_stats_avg,  how='left', on=['Season','Opp_TeamID'])\n",
    "Team2 = pd.merge(Team2, opp_all_stats_total,  how='left', on=['Season','Opp_TeamID'])\n",
    "Team2 = pd.merge(Team2, opp_all_stats_avg,  how='left', on=['Season','Opp_TeamID'])\n",
    "\n",
    "\n",
    "#### Subtracting two same stats from two teams.\n",
    "Team_diff = Team2.copy()\n",
    "Team_diff.columns = Team_diff.columns.str.rsplit('_', n=1, expand=True)\n",
    "Team_diff = Team_diff.xs('x', axis=1, level=1).sub(Team_diff.xs('y', axis=1, level=1)).add_suffix('_diff')\n",
    "Team_diff = Team2.join(Team_diff)\n",
    "\n",
    "\n",
    "#### Add the Winning Rate data to it\n",
    "final_data = pd.merge(Team_diff, IntraSeason_win_rate,  how='left', on=['Season','TeamID','Opp_TeamID'])\n",
    "final_data[['IntraSeason_Opp_Team_Winrate','IntraSeason_Team_Winrate']] = final_data[['IntraSeason_Opp_Team_Winrate','IntraSeason_Team_Winrate']].fillna(0.5)\n",
    "\n",
    "\n",
    "final_data"
   ]
  },
  {
   "cell_type": "code",
   "execution_count": null,
   "metadata": {
    "ExecuteTime": {
     "end_time": "2020-03-04T16:34:32.668368Z",
     "start_time": "2020-03-04T16:31:18.278Z"
    },
    "hidden": true
   },
   "outputs": [],
   "source": [
    "#final_data = Team_diff\n",
    "len(final_data)\n",
    "final_data.to_csv('final_data.csv', index=False)"
   ]
  },
  {
   "cell_type": "markdown",
   "metadata": {
    "heading_collapsed": true,
    "hidden": true
   },
   "source": [
    "### Cities?"
   ]
  },
  {
   "cell_type": "raw",
   "metadata": {
    "hidden": true
   },
   "source": [
    "\n",
    "# Team Name\n",
    "#final_data['Team_Name'] = final_data['TeamID'].map(teams_M.set_index('TeamID')['TeamName'])\n",
    "#final_data['Opp_Team_Name'] = final_data['Opp_TeamID'].map(teams_M.set_index('TeamID')['TeamName'])\n"
   ]
  },
  {
   "cell_type": "raw",
   "metadata": {
    "ExecuteTime": {
     "end_time": "2020-02-27T21:04:52.798849Z",
     "start_time": "2020-02-27T21:04:52.033467Z"
    },
    "hidden": true
   },
   "source": [
    "\n",
    "# Create a match up column with lower TeamID comes first.\n",
    "entire_detailed_result_M['match_up'] = entire_detailed_result_M[['WTeamID', 'LTeamID']].values.tolist()\n",
    "entire_detailed_result_M['match_up'] = entire_detailed_result_M['match_up'].apply(sorted)\n",
    "\n",
    "\n",
    "# Combine city that each game was played.\n",
    "entire_detailed_result_M = pd.merge(entire_detailed_result_M, cities_game_M,  how='left', on=['Season','DayNum','WTeamID','LTeamID','CRType'])\n",
    "entire_detailed_result_M = pd.merge(entire_detailed_result_M, cities,  how='left', on=['CityID'])\n",
    "\n",
    "\n",
    "# check the non-null count and the data types. \n",
    "entire_detailed_result_M"
   ]
  },
  {
   "cell_type": "markdown",
   "metadata": {
    "ExecuteTime": {
     "end_time": "2020-02-17T22:08:41.608927Z",
     "start_time": "2020-02-17T22:08:41.605935Z"
    },
    "heading_collapsed": true
   },
   "source": [
    "# Exploratory Data Analysis\n",
    "\n",
    "    - for each data we will:\n",
    "        - handle missing values\n",
    "        - find-out meaningful information that can potentially affect the result of the game\n",
    "        - create a new feature within the data"
   ]
  },
  {
   "cell_type": "markdown",
   "metadata": {
    "ExecuteTime": {
     "end_time": "2020-02-21T00:50:21.824739Z",
     "start_time": "2020-02-21T00:50:21.821738Z"
    },
    "hidden": true
   },
   "source": [
    "## Head-to-Head Record"
   ]
  },
  {
   "cell_type": "code",
   "execution_count": null,
   "metadata": {
    "ExecuteTime": {
     "end_time": "2020-03-04T16:34:32.669368Z",
     "start_time": "2020-03-04T16:31:18.344Z"
    },
    "hidden": true
   },
   "outputs": [],
   "source": [
    "# Check if any teamID skipped\n",
    "unique_teams = np.sort(final_data['TeamID'].unique())\n",
    "checker = np.arange(unique_teams[0],unique_teams[-1]+1)\n",
    "mask = np.isin(unique_teams, checker,  invert=True)\n",
    "\n",
    "\n",
    "unique_teams[mask]"
   ]
  },
  {
   "cell_type": "markdown",
   "metadata": {
    "hidden": true
   },
   "source": [
    "**No teamID was skipped, we can safely choose any number from 1101 to 1466 to see the head-to-head result**"
   ]
  },
  {
   "cell_type": "markdown",
   "metadata": {
    "ExecuteTime": {
     "end_time": "2020-02-24T07:38:22.916016Z",
     "start_time": "2020-02-24T07:38:22.912015Z"
    },
    "hidden": true
   },
   "source": [
    "**Since there are too many pairs of match ups, I looked for the most matched up pair**  "
   ]
  },
  {
   "cell_type": "code",
   "execution_count": null,
   "metadata": {
    "ExecuteTime": {
     "end_time": "2020-03-04T16:34:32.670369Z",
     "start_time": "2020-03-04T16:31:18.351Z"
    },
    "hidden": true
   },
   "outputs": [],
   "source": [
    "head_to_head_eda = final_data.groupby(['Team_Name','Opp_Team_Name']).count()\n",
    "head_to_head_eda = head_to_head_eda[['Result']]\n",
    "\n",
    "head_to_head_eda[head_to_head_eda.Result == head_to_head_eda.Result.max()]"
   ]
  },
  {
   "cell_type": "code",
   "execution_count": null,
   "metadata": {
    "ExecuteTime": {
     "end_time": "2020-03-04T16:34:32.671369Z",
     "start_time": "2020-03-04T16:31:18.356Z"
    },
    "hidden": true
   },
   "outputs": [],
   "source": [
    "teams_M[teams_M['TeamName']=='Kansas']\n",
    "teams_M[teams_M['TeamName']=='Kansas St']"
   ]
  },
  {
   "cell_type": "code",
   "execution_count": null,
   "metadata": {
    "ExecuteTime": {
     "end_time": "2020-03-04T16:34:32.672369Z",
     "start_time": "2020-03-04T16:31:18.362Z"
    },
    "hidden": true
   },
   "outputs": [],
   "source": [
    "def head_to_head(Team1, Team2, final_data = final_data):\n",
    "    head_to_head1 = final_data[(final_data['TeamID'] == Team1) & (final_data['Opp_TeamID'] == Team2)]\n",
    "    head_to_head2 = final_data[(final_data['Opp_TeamID'] == Team1) & (final_data['TeamID'] == Team2)]\n",
    "\n",
    "    final_head_to_head = pd.concat([head_to_head1, head_to_head2])\n",
    "    return final_head_to_head\n",
    "\n",
    "# Team from 1101~1466\n",
    "Team1 = 1242\n",
    "Team2 = 1243\n",
    "\n",
    "head_to_head_record = head_to_head(Team1, Team2)\n",
    "head_to_head_record\n",
    "\n",
    "# To see the record only from Tournaments\n",
    "head_to_head_record[head_to_head_record['CRType']=='NCAA']"
   ]
  },
  {
   "cell_type": "code",
   "execution_count": null,
   "metadata": {
    "ExecuteTime": {
     "end_time": "2020-03-04T16:34:32.673369Z",
     "start_time": "2020-03-04T16:31:18.367Z"
    },
    "hidden": true
   },
   "outputs": [],
   "source": [
    "def reorder_team(TeamID, Opp_TeamID, Result):\n",
    "\n",
    "    if TeamID > Opp_TeamID:\n",
    "        TeamID, Opp_TeamID = Opp_TeamID, TeamID\n",
    "        Result = 1 - Result\n",
    "\n",
    "    return TeamID, Opp_TeamID, Result\n",
    "\n",
    "# Generate data and get summary by team match-ups\n",
    "TeamID, Opp_TeamID, Result = final_data['TeamID'], final_data['Opp_TeamID'], final_data['Result']\n",
    "\n",
    "df = pd.DataFrame(data={'TeamID':TeamID,'Opp_TeamID':Opp_TeamID,'Result':Result}, dtype='int')\n",
    "df = pd.DataFrame(df.apply(lambda x : reorder_team(x['TeamID'], x['Opp_TeamID'], x['Result']),axis=1).to_list(), \n",
    "                  columns=df.columns)\n",
    "\n",
    "\n",
    "df_summary = df.groupby(['TeamID','Opp_TeamID']).agg(['sum','count'])\n",
    "df_summary.columns = ['Wins', 'Total']\n",
    "\n",
    "df_summary.reset_index(inplace=True)\n",
    "df_summary['Team_Winrate'] = (df_summary['Wins'] / df_summary['Total'])\n",
    "\n",
    "df_summary['Opp_Team_Winrate'] = 1 - df_summary['Team_Winrate']\n",
    "df_summary = df_summary.sort_values('Total', ascending=False)"
   ]
  },
  {
   "cell_type": "code",
   "execution_count": null,
   "metadata": {
    "ExecuteTime": {
     "end_time": "2020-03-04T16:34:32.674369Z",
     "start_time": "2020-03-04T16:31:18.371Z"
    },
    "hidden": true
   },
   "outputs": [],
   "source": [
    "Team1 = 1242\n",
    "Team2 = 1243\n",
    "\n",
    "head_to_head_record = head_to_head(Team1, Team2, df_summary)\n",
    "head_to_head_record"
   ]
  },
  {
   "cell_type": "markdown",
   "metadata": {
    "hidden": true
   },
   "source": [
    "**I included the top 10 most match ups to visualize**"
   ]
  },
  {
   "cell_type": "code",
   "execution_count": null,
   "metadata": {
    "ExecuteTime": {
     "end_time": "2020-03-04T16:34:32.675370Z",
     "start_time": "2020-03-04T16:31:18.377Z"
    },
    "hidden": true
   },
   "outputs": [],
   "source": [
    "df_summary = df_summary.iloc[:10,:]\n",
    "df_summary"
   ]
  },
  {
   "cell_type": "code",
   "execution_count": null,
   "metadata": {
    "ExecuteTime": {
     "end_time": "2020-03-04T16:34:32.676370Z",
     "start_time": "2020-03-04T16:31:18.383Z"
    },
    "hidden": true
   },
   "outputs": [],
   "source": [
    "fig, (ax_count, ax_win) = plt.subplots(1,2, figsize=(20,6))\n",
    "\n",
    "df_summary = df_summary.iloc[:10,:]\n",
    "df_summary['Team_Name'] = final_data['TeamID'].map(teams_M.set_index('TeamID')['TeamName'])\n",
    "df_summary['Opp_Team_Name'] = final_data['Opp_TeamID'].map(teams_M.set_index('TeamID')['TeamName'])\n",
    "\n",
    "y_locs = list(range(len(df_summary)))\n",
    "\n",
    "ax_count.barh(y_locs, width=df_summary['Total'], color='tab:gray')\n",
    "ax_count.set_yticks(y_locs)\n",
    "ax_count.set_yticklabels(df_summary['Team_Name'] + ' VS ' + df_summary['Opp_Team_Name'])\n",
    "ax_count.set_title('Total No. of Match Ups')\n",
    "ax_count.set_xticks([])\n",
    "\n",
    "for loc in ['top','left','right','bottom']:\n",
    "    ax_count.spines[loc].set_visible(False)\n",
    "\n",
    "for p in ax_count.patches:\n",
    "    ax_count.annotate(f'{p.get_width()}',\n",
    "                      (p.get_x() + p.get_width(), p.get_y() + p.get_height()/2.), \n",
    "                      ha='right', va='center', xytext=(-5,0), textcoords='offset points', \n",
    "                      color='white',fontweight='heavy')\n",
    "\n",
    "ax_win.barh(y_locs, width=df_summary['Team_Winrate'], color='tab:blue')\n",
    "ax_win2 = ax_win.twinx()\n",
    "ax_win2.barh(y_locs, width=df_summary['Opp_Team_Winrate'], \n",
    "             left=df_summary['Team_Winrate'], color='tab:red')\n",
    "\n",
    "ax_win.set_yticks(y_locs)\n",
    "ax_win.set_yticklabels(df_summary['Team_Name'])\n",
    "ax_win2.set_yticks(y_locs)\n",
    "ax_win2.set_yticklabels(df_summary['Opp_Team_Name'])\n",
    "\n",
    "ax_win.set_xlim(0,1)\n",
    "ax_win.set_title('Winning Rate')\n",
    "ax_win.set_xticks([])\n",
    "\n",
    "for loc in ['top','left','right','bottom']:\n",
    "    ax_win.spines[loc].set_visible(False)\n",
    "    ax_win2.spines[loc].set_visible(False)\n",
    "\n",
    "for p in ax_win.patches:\n",
    "    ax_win.annotate(f'{p.get_width() * 100 :.0f} %',\n",
    "                      (0, p.get_y() + p.get_height()/2.), \n",
    "                      ha='left', va='center', xytext=(10,0), textcoords='offset points', \n",
    "                      color='white',fontweight='heavy')\n",
    "\n",
    "    ax_win2.annotate(f'{(1 - p.get_width()) * 100 :.0f} %',\n",
    "                      (1, p.get_y() + p.get_height()/2.), \n",
    "                      ha='right', va='center', xytext=(-10,0), textcoords='offset points', \n",
    "                      color='white',fontweight='heavy')\n",
    "\n",
    "plt.show()"
   ]
  },
  {
   "cell_type": "markdown",
   "metadata": {
    "hidden": true
   },
   "source": [
    "## Teams Data\n",
    "\n",
    "    1) Which team won the most\n",
    "    2) Which team lost the most\n",
    "    \n",
    "    3) Level 2\n",
    "        3) For each team, see what is their strengths and weakness\n",
    "            - use the detailed results find the point percetage (3points, 2point jumper, under the basket, free throw...etc) to get a sense what were their strategies were. \n",
    "            - count the each detailed move, and compare with other teams to see what their strengths and weaknesses are."
   ]
  },
  {
   "cell_type": "code",
   "execution_count": null,
   "metadata": {
    "ExecuteTime": {
     "end_time": "2020-03-04T16:34:32.677370Z",
     "start_time": "2020-03-04T16:31:18.388Z"
    },
    "hidden": true
   },
   "outputs": [],
   "source": [
    "# Just to make sure, check if there is any team never won or lost.\n",
    "\n",
    "a = teams_M['TeamID']\n",
    "b = entire_compact_result_M['WTeamID']\n",
    "c = entire_compact_result_M['LTeamID']\n",
    "\n",
    "print(f'never won: {np.setdiff1d(a,b)}')\n",
    "print(f'never lost: {np.setdiff1d(a,c)}')\n",
    "\n",
    "teams_M[teams_M['TeamID']==1467]"
   ]
  },
  {
   "cell_type": "markdown",
   "metadata": {
    "ExecuteTime": {
     "end_time": "2020-02-24T04:37:27.749569Z",
     "start_time": "2020-02-24T04:37:27.745569Z"
    },
    "hidden": true
   },
   "source": [
    "We have one team who never won and lost, but Team 1467 just joined the Division 1 this year."
   ]
  },
  {
   "cell_type": "markdown",
   "metadata": {
    "ExecuteTime": {
     "end_time": "2020-02-24T04:38:12.228882Z",
     "start_time": "2020-02-24T04:38:12.225892Z"
    },
    "hidden": true
   },
   "source": [
    "### Which team won the most?"
   ]
  },
  {
   "cell_type": "code",
   "execution_count": null,
   "metadata": {
    "ExecuteTime": {
     "end_time": "2020-03-04T16:34:32.678371Z",
     "start_time": "2020-03-04T16:31:18.396Z"
    },
    "hidden": true
   },
   "outputs": [],
   "source": [
    "winners"
   ]
  },
  {
   "cell_type": "code",
   "execution_count": null,
   "metadata": {
    "ExecuteTime": {
     "end_time": "2020-03-04T16:34:32.679371Z",
     "start_time": "2020-03-04T16:31:18.401Z"
    },
    "hidden": true
   },
   "outputs": [],
   "source": [
    "vic_count = winners[['TeamID','Result']].groupby('TeamID', as_index=False).sum()\n",
    "vic_count = pd.merge(vic_count, teams_M[['TeamID','TeamName']],  how='left', on=['TeamID'])\n",
    "vic_count.sort_values(by=['Result'], ascending=False, inplace=True)\n",
    "vic_count"
   ]
  },
  {
   "cell_type": "markdown",
   "metadata": {
    "hidden": true
   },
   "source": [
    "After I look at the table above, I realize that just counting the number of victory doesn't mean that much. So I divided the count of score, NumOT, and number of wins by number of season each team played. It will give us the average victories per season which means more than the naive count."
   ]
  },
  {
   "cell_type": "code",
   "execution_count": null,
   "metadata": {
    "ExecuteTime": {
     "end_time": "2020-03-04T16:34:32.679371Z",
     "start_time": "2020-03-04T16:31:18.407Z"
    },
    "hidden": true
   },
   "outputs": [],
   "source": [
    "season_count = winners[['Season','TeamID']].groupby('TeamID').nunique()\n",
    "season_count.drop('TeamID', inplace=True, axis =1)\n",
    "season_count.rename(columns={\"Season\": \"Season_Count\"},inplace=True)\n",
    "#season_count.reset_index(inplace=True)\n",
    "\n",
    "season_count"
   ]
  },
  {
   "cell_type": "code",
   "execution_count": null,
   "metadata": {
    "ExecuteTime": {
     "end_time": "2020-03-04T16:34:32.680372Z",
     "start_time": "2020-03-04T16:31:18.412Z"
    },
    "hidden": true
   },
   "outputs": [],
   "source": [
    "victory_count = pd.merge(vic_count, season_count, how = 'left', on=['TeamID'])\n",
    "victory_count.set_index(['TeamID','TeamName'], inplace = True)\n",
    "victory_count = victory_count.loc[:,:\"Result\"].div(victory_count[\"Season_Count\"], axis=0)\n",
    "victory_count.sort_values(by=['Result'], ascending=False, inplace=True)\n",
    "victory_count = victory_count.round(2)\n",
    "victory_count.reset_index(inplace=True)\n",
    "\n",
    "victory_count"
   ]
  },
  {
   "cell_type": "code",
   "execution_count": null,
   "metadata": {
    "ExecuteTime": {
     "end_time": "2020-03-04T16:34:32.681370Z",
     "start_time": "2020-03-04T16:31:18.417Z"
    },
    "hidden": true
   },
   "outputs": [],
   "source": [
    "#import seaborn as sns\n",
    "victory_count = victory_count.iloc[:15,:]\n",
    "x_labels = victory_count['TeamName']\n",
    "counts = victory_count['Result']\n",
    "\n",
    "# Plot the figure.\n",
    "plt.figure(figsize=(20, 6))\n",
    "ax = counts.plot(kind='bar')\n",
    "ax.set_title('Avg. Loses per Season')\n",
    "ax.set_xlabel('Teams')\n",
    "ax.set_ylabel('Wins')\n",
    "ax.set_xticklabels(x_labels)\n",
    "\n",
    "\n",
    "    \n",
    "def add_value_labels(ax, spacing=5):\n",
    "    \"\"\"Add labels to the end of each bar in a bar chart.\n",
    "\n",
    "    Arguments:\n",
    "        ax (matplotlib.axes.Axes): The matplotlib object containing the axes\n",
    "            of the plot to annotate.\n",
    "        spacing (int): The distance between the labels and the bars.\n",
    "    \"\"\"\n",
    "\n",
    "    # For each bar: Place a label\n",
    "    for rect in ax.patches:\n",
    "        # Get X and Y placement of label from rect.\n",
    "        y_value = rect.get_height()\n",
    "        x_value = rect.get_x() + rect.get_width() / 2\n",
    "\n",
    "        # Number of points between bar and label. Change to your liking.\n",
    "        space = spacing\n",
    "        # Vertical alignment for positive values\n",
    "        va = 'bottom'\n",
    "\n",
    "        # If value of bar is negative: Place label below bar\n",
    "        if y_value < 0:\n",
    "            # Invert space to place label below\n",
    "            space *= -1\n",
    "            # Vertically align label at top\n",
    "            va = 'top'\n",
    "\n",
    "        # Use Y value as label and format number with one decimal place\n",
    "        label = \"{:.1f}\".format(y_value)\n",
    "\n",
    "        # Create annotation\n",
    "        ax.annotate(\n",
    "            label,                      # Use `label` as label\n",
    "            (x_value, y_value),         # Place label at end of the bar\n",
    "            xytext=(0, space),          # Vertically shift label by `space`\n",
    "            textcoords=\"offset points\", # Interpret `xytext` as offset in points\n",
    "            ha='center',                # Horizontally center label\n",
    "            va=va)                      # Vertically align label differently for\n",
    "                                        # positive and negative values.\n",
    "\n",
    "# Call the function above. All the magic happens there.\n",
    "add_value_labels(ax)"
   ]
  },
  {
   "cell_type": "markdown",
   "metadata": {
    "ExecuteTime": {
     "end_time": "2020-02-24T04:38:12.228882Z",
     "start_time": "2020-02-24T04:38:12.225892Z"
    },
    "hidden": true
   },
   "source": [
    "### Which team lost the most?"
   ]
  },
  {
   "cell_type": "code",
   "execution_count": null,
   "metadata": {
    "ExecuteTime": {
     "end_time": "2020-03-04T16:34:32.682371Z",
     "start_time": "2020-03-04T16:31:18.423Z"
    },
    "hidden": true
   },
   "outputs": [],
   "source": [
    "losers['Result'] = 1 \n",
    "losers"
   ]
  },
  {
   "cell_type": "code",
   "execution_count": null,
   "metadata": {
    "ExecuteTime": {
     "end_time": "2020-03-04T16:34:32.683371Z",
     "start_time": "2020-03-04T16:31:18.428Z"
    },
    "hidden": true
   },
   "outputs": [],
   "source": [
    "defeat_count = losers[['TeamID','Result']].groupby('TeamID', as_index=False).sum()\n",
    "defeat_count = pd.merge(defeat_count, teams_M[['TeamID','TeamName']],  how='left', on=['TeamID'])\n",
    "defeat_count.sort_values(by=['Result'], ascending=False, inplace=True)\n",
    "defeat_count"
   ]
  },
  {
   "cell_type": "markdown",
   "metadata": {
    "hidden": true
   },
   "source": [
    "After I look at the table above, I realize that just counting the number of victory doesn't mean that much. So I divided the count of score, NumOT, and number of wins by number of season each team played. It will give us the average victories per season which means more than the naive count."
   ]
  },
  {
   "cell_type": "code",
   "execution_count": null,
   "metadata": {
    "ExecuteTime": {
     "end_time": "2020-03-04T16:34:32.684373Z",
     "start_time": "2020-03-04T16:31:18.436Z"
    },
    "hidden": true
   },
   "outputs": [],
   "source": [
    "season_count = losers[['Season','TeamID']].groupby('TeamID').nunique()\n",
    "season_count.drop('TeamID', inplace=True, axis =1)\n",
    "season_count.rename(columns={\"Season\": \"Season_Count\"},inplace=True)\n",
    "#season_count.reset_index(inplace=True)\n",
    "\n",
    "season_count"
   ]
  },
  {
   "cell_type": "code",
   "execution_count": null,
   "metadata": {
    "ExecuteTime": {
     "end_time": "2020-03-04T16:34:32.685371Z",
     "start_time": "2020-03-04T16:31:18.440Z"
    },
    "hidden": true
   },
   "outputs": [],
   "source": [
    "defeat_count = pd.merge(defeat_count, season_count, how = 'left', on=['TeamID'])\n",
    "defeat_count.set_index(['TeamID','TeamName'], inplace = True)\n",
    "defeat_count = defeat_count.loc[:,:\"Result\"].div(defeat_count[\"Season_Count\"], axis=0)\n",
    "defeat_count.sort_values(by=['Result'], ascending=False, inplace=True)\n",
    "defeat_count = defeat_count.round(2)\n",
    "defeat_count.reset_index(inplace=True)\n",
    "\n",
    "defeat_count"
   ]
  },
  {
   "cell_type": "code",
   "execution_count": null,
   "metadata": {
    "ExecuteTime": {
     "end_time": "2020-03-04T16:34:32.686373Z",
     "start_time": "2020-03-04T16:31:18.445Z"
    },
    "hidden": true
   },
   "outputs": [],
   "source": [
    "#import seaborn as sns\n",
    "defeat_count = defeat_count.iloc[:15,:]\n",
    "x_labels = defeat_count['TeamName']\n",
    "counts = defeat_count['Result']\n",
    "\n",
    "# Plot the figure.\n",
    "plt.figure(figsize=(20, 6))\n",
    "ax = counts.plot(kind='bar')\n",
    "ax.set_title('Avg. Defeats per Season')\n",
    "ax.set_xlabel('Teams')\n",
    "ax.set_ylabel('Wins')\n",
    "ax.set_xticklabels(x_labels)\n",
    "\n",
    "\n",
    "    \n",
    "def add_value_labels(ax, spacing=5):\n",
    "    \"\"\"Add labels to the end of each bar in a bar chart.\n",
    "\n",
    "    Arguments:\n",
    "        ax (matplotlib.axes.Axes): The matplotlib object containing the axes\n",
    "            of the plot to annotate.\n",
    "        spacing (int): The distance between the labels and the bars.\n",
    "    \"\"\"\n",
    "\n",
    "    # For each bar: Place a label\n",
    "    for rect in ax.patches:\n",
    "        # Get X and Y placement of label from rect.\n",
    "        y_value = rect.get_height()\n",
    "        x_value = rect.get_x() + rect.get_width() / 2\n",
    "\n",
    "        # Number of points between bar and label. Change to your liking.\n",
    "        space = spacing\n",
    "        # Vertical alignment for positive values\n",
    "        va = 'bottom'\n",
    "\n",
    "        # If value of bar is negative: Place label below bar\n",
    "        if y_value < 0:\n",
    "            # Invert space to place label below\n",
    "            space *= -1\n",
    "            # Vertically align label at top\n",
    "            va = 'top'\n",
    "\n",
    "        # Use Y value as label and format number with one decimal place\n",
    "        label = \"{:.1f}\".format(y_value)\n",
    "\n",
    "        # Create annotation\n",
    "        ax.annotate(\n",
    "            label,                      # Use `label` as label\n",
    "            (x_value, y_value),         # Place label at end of the bar\n",
    "            xytext=(0, space),          # Vertically shift label by `space`\n",
    "            textcoords=\"offset points\", # Interpret `xytext` as offset in points\n",
    "            ha='center',                # Horizontally center label\n",
    "            va=va)                      # Vertically align label differently for\n",
    "                                        # positive and negative values.\n",
    "\n",
    "# Call the function above. All the magic happens there.\n",
    "add_value_labels(ax)"
   ]
  },
  {
   "cell_type": "markdown",
   "metadata": {
    "ExecuteTime": {
     "end_time": "2020-02-24T06:22:13.828121Z",
     "start_time": "2020-02-24T06:22:13.825120Z"
    },
    "hidden": true
   },
   "source": [
    "## Winning rate in cities (still need to work)\n",
    "\n",
    "    - City data only has data from 2010"
   ]
  },
  {
   "cell_type": "code",
   "execution_count": null,
   "metadata": {
    "ExecuteTime": {
     "end_time": "2020-03-04T16:34:32.686373Z",
     "start_time": "2020-03-04T16:31:18.451Z"
    },
    "hidden": true
   },
   "outputs": [],
   "source": [
    "city_eda_win = final_data[final_data['CityID'].notna() & final_data['Result'] == 1]\n",
    "city_eda_win"
   ]
  },
  {
   "cell_type": "markdown",
   "metadata": {
    "hidden": true
   },
   "source": [
    "## Seed count per teams (need to work)"
   ]
  },
  {
   "cell_type": "code",
   "execution_count": null,
   "metadata": {
    "ExecuteTime": {
     "end_time": "2020-03-04T16:34:32.687373Z",
     "start_time": "2020-03-04T16:31:18.458Z"
    },
    "hidden": true
   },
   "outputs": [],
   "source": [
    "seed_eda = final_data[final_data['CRType'] == 'NCAA']\n",
    "seed_eda"
   ]
  },
  {
   "cell_type": "code",
   "execution_count": null,
   "metadata": {
    "ExecuteTime": {
     "end_time": "2020-03-04T16:34:32.688373Z",
     "start_time": "2020-03-04T16:31:18.463Z"
    },
    "hidden": true
   },
   "outputs": [],
   "source": [
    "np.sort(seed_eda['Seed_Number'].unique())"
   ]
  },
  {
   "cell_type": "markdown",
   "metadata": {
    "ExecuteTime": {
     "end_time": "2020-02-24T06:57:08.999740Z",
     "start_time": "2020-02-24T06:57:08.996749Z"
    },
    "hidden": true
   },
   "source": [
    "### I need to come up with an idea how season_M data can be used (need to work on this)"
   ]
  },
  {
   "cell_type": "code",
   "execution_count": null,
   "metadata": {
    "ExecuteTime": {
     "end_time": "2020-03-04T16:34:32.689373Z",
     "start_time": "2020-03-04T16:31:18.470Z"
    },
    "hidden": true
   },
   "outputs": [],
   "source": [
    "season_M.info()\n",
    "season_M"
   ]
  },
  {
   "cell_type": "markdown",
   "metadata": {},
   "source": [
    "# Upset Predictions"
   ]
  },
  {
   "cell_type": "markdown",
   "metadata": {},
   "source": [
    "# Feature Engineering (Working on this)"
   ]
  },
  {
   "cell_type": "markdown",
   "metadata": {
    "heading_collapsed": true
   },
   "source": [
    "## Train Data"
   ]
  },
  {
   "cell_type": "markdown",
   "metadata": {
    "hidden": true
   },
   "source": [
    "**Include DayNum later to see the trends within the tourney**"
   ]
  },
  {
   "cell_type": "code",
   "execution_count": null,
   "metadata": {
    "ExecuteTime": {
     "end_time": "2020-03-04T16:34:32.690373Z",
     "start_time": "2020-03-04T16:31:18.479Z"
    },
    "hidden": true
   },
   "outputs": [],
   "source": [
    "training_data = final_data[final_data['Season'] < 2019]\n",
    "\n",
    "#training_data = training_data.drop(['Score', 'Opp_Score', 'DayNum', 'NumOT','Result'], axis = 1)\n",
    "training_data['upset'] = np.where((training_data['Seed_diff'] >= 3) & (training_data['Result']) == 1, 1, 0)\n",
    "\n",
    "training_data.dropna(inplace=True)\n",
    "\n",
    "# Rename 'Result' to 'Pred'\n",
    "#training_data = training_data.rename(columns = {'Result':'Pred'})\n",
    "training_data.drop(['Loc_N', 'CRType_NCAA'], inplace=True, axis=1)\n",
    "training_data"
   ]
  },
  {
   "cell_type": "markdown",
   "metadata": {
    "heading_collapsed": true
   },
   "source": [
    "## Test data"
   ]
  },
  {
   "cell_type": "markdown",
   "metadata": {
    "hidden": true
   },
   "source": [
    "### Winning Rate in 2019 Season"
   ]
  },
  {
   "cell_type": "code",
   "execution_count": null,
   "metadata": {
    "ExecuteTime": {
     "end_time": "2020-03-04T16:34:32.691373Z",
     "start_time": "2020-03-04T16:31:18.486Z"
    },
    "hidden": true
   },
   "outputs": [],
   "source": [
    "regular_dummies = pd.get_dummies(regular_detailed_result_M.copy())\n",
    "\n",
    "# win rate\n",
    "def reorder_team(Season, TeamID, Opp_TeamID, Result):\n",
    "\n",
    "    if TeamID > Opp_TeamID:\n",
    "        TeamID, Opp_TeamID = Opp_TeamID, TeamID\n",
    "        Result = 1 - Result\n",
    "\n",
    "    return Season, TeamID, Opp_TeamID, Result\n",
    "\n",
    "############################################### Alltime WinRate goes below, then replace the tourney_M_dummies with the alltime df at the very last line of this cell, merging part:\n",
    "\n",
    "############################################### IntraSeason WinRate\n",
    "# Get summary by team match-ups\n",
    "Season, TeamID, Opp_TeamID, Result = regular_dummies['Season'], regular_dummies['TeamID'], regular_dummies['Opp_TeamID'], regular_dummies['Result']\n",
    "\n",
    "intra_season_winrate = pd.DataFrame(data={'Season':Season, 'TeamID':TeamID,'Opp_TeamID':Opp_TeamID,'Result':Result}, dtype='int')\n",
    "intra_season_winrate = pd.DataFrame(intra_season_winrate.apply(lambda x : reorder_team(x['Season'], x['TeamID'], x['Opp_TeamID'], x['Result']),axis=1).to_list(), \n",
    "                  columns=intra_season_winrate.columns)\n",
    "\n",
    "\n",
    "intra_season_winrate_summary = intra_season_winrate.groupby(['Season','TeamID','Opp_TeamID']).agg(['sum','count'])\n",
    "intra_season_winrate_summary.columns = ['Wins_Season', 'Total_Season']\n",
    "\n",
    "intra_season_winrate_summary.reset_index(inplace=True)\n",
    "intra_season_winrate_summary['IntraSeason_Team_Winrate'] = (intra_season_winrate_summary['Wins_Season'] / intra_season_winrate_summary['Total_Season'])\n",
    "\n",
    "intra_season_winrate_summary['IntraSeason_Opp_Team_Winrate'] = 1 - intra_season_winrate_summary['IntraSeason_Team_Winrate']\n",
    "intra_season_winrate_summary = intra_season_winrate_summary.sort_values('Total_Season', ascending=False)\n",
    "\n",
    "\n",
    "IntraSeason_win_rate1 = intra_season_winrate_summary[['Season', 'TeamID', 'Opp_TeamID','IntraSeason_Team_Winrate', 'IntraSeason_Opp_Team_Winrate']]\n",
    "IntraSeason_win_rate2 = IntraSeason_win_rate1.copy()\n",
    "IntraSeason_win_rate2 = IntraSeason_win_rate2.rename(columns={'IntraSeason_Team_Winrate':'IntraSeason_Opp_Team_Winrate', 'IntraSeason_Opp_Team_Winrate':'IntraSeason_Team_Winrate', 'TeamID':'Opp_TeamID', 'Opp_TeamID':'TeamID'})\n",
    "IntraSeason_win_rate = pd.concat([IntraSeason_win_rate1, IntraSeason_win_rate2], axis=0, sort=True)\n",
    "\n",
    "#WinningRates = pd.merge(tourney_M_dummies, IntraSeason_win_rate,  how='left', on=['Season','TeamID','Opp_TeamID'])\n",
    "#WinningRates.fillna(0.5, inplace=True)\n",
    "#WinningRates\n",
    "\n",
    "IntraSeason_win_rate"
   ]
  },
  {
   "cell_type": "markdown",
   "metadata": {
    "hidden": true
   },
   "source": [
    "### Put all together"
   ]
  },
  {
   "cell_type": "code",
   "execution_count": null,
   "metadata": {
    "ExecuteTime": {
     "end_time": "2020-03-04T16:34:32.692373Z",
     "start_time": "2020-03-04T16:31:18.493Z"
    },
    "hidden": true
   },
   "outputs": [],
   "source": [
    "# Spliting ID into 3 different columns\n",
    "submission_file['Season'] = submission_file['ID'].apply(lambda x: x.split(\"_\")[0])\n",
    "submission_file['TeamID'] = submission_file['ID'].apply(lambda x: x.split(\"_\")[1])\n",
    "submission_file['Opp_TeamID'] = submission_file['ID'].apply(lambda x: x.split(\"_\")[2])\n",
    "\n",
    "# Reorder the columns to move the target variable to the end\n",
    "cols = [\"Season\", \"TeamID\", \"Opp_TeamID\", \"Pred\"]\n",
    "\n",
    "# apply the corrected column order to the data frame\n",
    "test_data = submission_file[cols]\n",
    "test_data = test_data.astype('float')\n",
    "\n",
    "############################################# Seed Data\n",
    "# Seed Data\n",
    "tourney_seed_M['CRType'] = 'NCAA' # create a column in seed table to merge only on NCAA data.\n",
    "test_data = pd.merge(test_data, tourney_seed_M, how = 'left', left_on=['Season', 'TeamID'], right_on=['Season','TeamID'])\n",
    "\n",
    "test_data['Seed_Group'] = test_data['Seed'].apply(lambda x: x[0] if (np.all(pd.notnull(x))) else x)\n",
    "test_data['Seed_Number'] = test_data['Seed'].apply(lambda x: x[1:3] if (np.all(pd.notnull(x))) else x)\n",
    "test_data.drop(['Seed','CRType'], axis = 1, inplace =True)\n",
    "\n",
    "# Opp Seed Data\n",
    "opp_team_name = tourney_seed_M.rename(columns={\"TeamID\": \"Opp_TeamID\"})\n",
    "test_data = pd.merge(test_data, opp_team_name, how = 'left', left_on=['Season', 'Opp_TeamID'], right_on=['Season','Opp_TeamID'])\n",
    "test_data['Opp_Seed_Group'] = test_data['Seed'].apply(lambda x: x[0] if (np.all(pd.notnull(x))) else x)\n",
    "test_data['Opp_Seed_Number'] = test_data['Seed'].apply(lambda x: x[1:3] if (np.all(pd.notnull(x))) else x)\n",
    "test_data.drop(['Seed','CRType'], axis = 1, inplace =True)\n",
    "\n",
    "# Seed Difference\n",
    "# convert some columns to numeric\n",
    "test_data = test_data.astype({\"Seed_Number\": int, \"Opp_Seed_Number\": int}, errors='ignore')\n",
    "test_data['Seed_diff'] = test_data['Seed_Number'] - test_data['Opp_Seed_Number']\n",
    "#training_data['Score_diff'] = training_data['Score'] - training_data['Opp_Score']\n",
    "\n",
    "\n",
    "test_data = pd.get_dummies(test_data)\n",
    "######################################################### Team 1 Data Merging\n",
    "Team1 = test_data.copy()\n",
    "\n",
    "Team1 = pd.merge(Team1, winning_stats_total,  how='left', on=['Season','TeamID'])\n",
    "Team1 = pd.merge(Team1, winning_stats_avg,  how='left', on=['Season','TeamID'])\n",
    "Team1 = pd.merge(Team1, Lost_stats_total,  how='left', on=['Season','TeamID'])\n",
    "Team1 = pd.merge(Team1, Lost_stats_avg,  how='left', on=['Season','TeamID'])\n",
    "Team1 = pd.merge(Team1, all_stats_total,  how='left', on=['Season','TeamID'])\n",
    "Team1 = pd.merge(Team1, all_stats_avg,  how='left', on=['Season','TeamID'])\n",
    "\n",
    "#### Team 2 Data Merging on the Team 1 Data\n",
    "opp_winning_stats_total = winning_stats_total.rename(columns={\"TeamID\": \"Opp_TeamID\"})\n",
    "opp_winning_stats_avg = winning_stats_avg.rename(columns={\"TeamID\": \"Opp_TeamID\"})\n",
    "opp_Lost_stats_total = Lost_stats_total.rename(columns={\"TeamID\": \"Opp_TeamID\"})\n",
    "opp_Lost_stats_avg = Lost_stats_avg.rename(columns={\"TeamID\": \"Opp_TeamID\"})\n",
    "opp_all_stats_total = all_stats_total.rename(columns={\"TeamID\": \"Opp_TeamID\"})\n",
    "opp_all_stats_avg = all_stats_avg.rename(columns={\"TeamID\": \"Opp_TeamID\"})\n",
    "\n",
    "Team2 = pd.merge(Team1, opp_winning_stats_total,  how='left', on=['Season','Opp_TeamID'])\n",
    "Team2 = pd.merge(Team2, opp_winning_stats_avg,  how='left', on=['Season','Opp_TeamID'])\n",
    "Team2 = pd.merge(Team2, opp_Lost_stats_total,  how='left', on=['Season','Opp_TeamID'])\n",
    "Team2 = pd.merge(Team2, opp_Lost_stats_avg,  how='left', on=['Season','Opp_TeamID'])\n",
    "Team2 = pd.merge(Team2, opp_all_stats_total,  how='left', on=['Season','Opp_TeamID'])\n",
    "Team2 = pd.merge(Team2, opp_all_stats_avg,  how='left', on=['Season','Opp_TeamID'])\n",
    "\n",
    "\n",
    "#### Subtracting two same stats from two teams.\n",
    "Team_diff = Team2.copy()\n",
    "Team_diff.columns = Team_diff.columns.str.rsplit('_', n=1, expand=True)\n",
    "Team_diff = Team_diff.xs('x', axis=1, level=1).sub(Team_diff.xs('y', axis=1, level=1)).add_suffix('_diff')\n",
    "Team_diff = Team2.join(Team_diff)\n",
    "\n",
    "\n",
    "#### Add the Winning Rate data to it\n",
    "test_data = pd.merge(Team_diff, IntraSeason_win_rate,  how='left', on=['Season','TeamID','Opp_TeamID'])\n",
    "test_data[['IntraSeason_Opp_Team_Winrate','IntraSeason_Team_Winrate']] = test_data[['IntraSeason_Opp_Team_Winrate','IntraSeason_Team_Winrate']].fillna(0.5)\n",
    "\n",
    "test_data"
   ]
  },
  {
   "cell_type": "raw",
   "metadata": {
    "ExecuteTime": {
     "end_time": "2020-02-24T22:55:07.764517Z",
     "start_time": "2020-02-24T22:55:07.676508Z"
    },
    "hidden": true
   },
   "source": [
    "# City_ID\n",
    "cities_game_M_NCAA = cities_game_M[cities_game_M['CRType']=='NCAA']\n",
    "\n",
    "\n",
    "def low_to_high(TeamID, Opp_TeamID, CityID, Season):\n",
    "\n",
    "    if TeamID > Opp_TeamID:\n",
    "        TeamID, Opp_TeamID = Opp_TeamID, TeamID\n",
    "\n",
    "    return TeamID, Opp_TeamID, CityID, Season\n",
    "\n",
    "# Generate data and get summary by team match-ups\n",
    "TeamID, Opp_TeamID, CityID, Season = cities_game_M_NCAA['WTeamID'], cities_game_M_NCAA['LTeamID'], cities_game_M_NCAA['CityID'], cities_game_M_NCAA['Season']\n",
    "\n",
    "cities_game_M_NCAA = pd.DataFrame(data={'TeamID':TeamID, 'Opp_TeamID':Opp_TeamID, 'CityID': CityID, 'Season': Season}, dtype='int')\n",
    "cities_game_M_NCAA = pd.DataFrame(cities_game_M_NCAA.apply(lambda x : low_to_high(x['TeamID'], x['Opp_TeamID'], x['CityID'], x['Season']),axis=1).to_list(), columns=cities_game_M_NCAA.columns)\n",
    "\n",
    "\n",
    "test_data = pd.merge(test_data, cities_game_M_NCAA,  how='left', left_on=['Season','TeamID','Opp_TeamID'], right_on=['Season','TeamID','Opp_TeamID'])\n",
    "#test_data = pd.merge(test_data, cities,  how='left', on=['CityID'])\n",
    "\n",
    "\n",
    "test_data"
   ]
  },
  {
   "cell_type": "markdown",
   "metadata": {},
   "source": [
    "# Dimension Reduction (Working on it)\n",
    "\n",
    "    - Try UMAP to reduce the dimension and visualize it to see if we can find any meaningful information\n",
    "    - Apply it on the training data set for now\n",
    "    - For the future, apply it to find upsets."
   ]
  },
  {
   "cell_type": "code",
   "execution_count": null,
   "metadata": {
    "ExecuteTime": {
     "end_time": "2020-03-04T16:34:32.693374Z",
     "start_time": "2020-03-04T16:31:18.573Z"
    }
   },
   "outputs": [],
   "source": [
    "from sklearn.feature_selection import SelectKBest\n",
    "from sklearn.feature_selection import f_regression\n",
    "\n",
    "\n",
    "########## upset vs no upset among entire teams\n",
    "features = training_data.drop(['upset', 'Result'], axis = 1)\n",
    "labels = training_data['upset']\n",
    "\n",
    "\n",
    "scaler = MinMaxScaler()\n",
    "scaler.fit(features)\n",
    "features_scaled = scaler.transform(features)\n",
    "\n",
    "\n",
    "fs = SelectKBest(score_func=f_regression, k=9)\n",
    "\n",
    "\n",
    "# apply feature selection\n",
    "#X_selected = fs.fit_transform(features_scaled, labels)\n",
    "\n",
    "\n",
    "fs.fit(features_scaled, labels)\n",
    "# Get columns to keep and create new dataframe with those only\n",
    "cols = fs.get_support(indices=True)\n",
    "features = features.iloc[:,cols]\n",
    "\n",
    "\n",
    "features"
   ]
  },
  {
   "cell_type": "code",
   "execution_count": null,
   "metadata": {
    "ExecuteTime": {
     "end_time": "2020-03-04T16:34:32.694374Z",
     "start_time": "2020-03-04T16:31:18.578Z"
    }
   },
   "outputs": [],
   "source": [
    "scaler = MinMaxScaler()\n",
    "scaler.fit(features)\n",
    "features = scaler.transform(features)\n",
    "\n",
    "\n",
    "\n",
    "reducer = umap.UMAP()\n",
    "embedding = reducer.fit_transform(features)\n",
    "embedding.shape\n",
    "embedding"
   ]
  },
  {
   "cell_type": "code",
   "execution_count": 354,
   "metadata": {
    "ExecuteTime": {
     "end_time": "2020-03-02T23:15:06.389670Z",
     "start_time": "2020-03-02T23:15:06.383724Z"
    }
   },
   "outputs": [],
   "source": [
    "new_label = []\n",
    "new_names = []\n",
    "for i in labels:\n",
    "    if i == 0:\n",
    "        new_names.append('not upset')\n",
    "    elif i == 1:\n",
    "        new_names.append('upset')\n",
    "\n",
    "new_label = np.asarray(new_label)"
   ]
  },
  {
   "cell_type": "code",
   "execution_count": 355,
   "metadata": {
    "ExecuteTime": {
     "end_time": "2020-03-02T23:15:07.178561Z",
     "start_time": "2020-03-02T23:15:06.861409Z"
    }
   },
   "outputs": [
    {
     "data": {
      "text/plain": [
       "<matplotlib.legend.Legend at 0x239124a4208>"
      ]
     },
     "execution_count": 355,
     "metadata": {},
     "output_type": "execute_result"
    },
    {
     "data": {
      "image/png": "[encoded data removed]",
      "text/plain": [
       "<Figure size 1440x864 with 1 Axes>"
      ]
     },
     "metadata": {
      "needs_background": "light"
     },
     "output_type": "display_data"
    }
   ],
   "source": [
    "import matplotlib.cm as cm\n",
    "\n",
    "rcParams['figure.figsize'] = 20, 12\n",
    "\n",
    "N = 45\n",
    "x, y = embedding[:, 0], embedding[:, 1]\n",
    "c = labels\n",
    "\n",
    "\n",
    "#s = np.random.randint(10, 220, size=N)\n",
    "\n",
    "fig, ax = plt.subplots()\n",
    "\n",
    "scatter = ax.scatter(x, y, c=c, alpha=0.8, cmap=cm.Spectral)\n",
    "\n",
    "legend1 = ax.legend(*scatter.legend_elements(), loc=\"best\", title=\"Classes\")\n",
    "ax.add_artist(legend1)\n",
    "\n",
    "\n",
    "plt.show()\n"
   ]
  },
  {
   "cell_type": "raw",
   "metadata": {
    "ExecuteTime": {
     "end_time": "2020-03-02T21:59:41.752231Z",
     "start_time": "2020-03-02T21:59:41.665151Z"
    }
   },
   "source": [
    "rcParams['figure.figsize'] = 25, 12\n",
    "\n",
    "output_notebook()\n",
    "\n",
    "\n",
    "digits_df = pd.DataFrame(embedding, columns=('x', 'y'))\n",
    "digits_df['label'] = [str(x) for x in new_names]\n",
    "names = np.unique(label)\n",
    "\n",
    "datasource = ColumnDataSource(digits_df)\n",
    "color_mapping = CategoricalColorMapper(factors=[x for x in new_names], palette=Spectral6)\n",
    "\n",
    "plot_figure = figure(\n",
    "    title='UMAP projection of the NCAA dataset',\n",
    "    plot_width=900,\n",
    "    plot_height=700,\n",
    "    tools=('pan, wheel_zoom, reset')\n",
    ")\n",
    "\n",
    "plot_figure.add_tools(HoverTool(tooltips=\"\"\"\n",
    "<div>\n",
    "    <div>\n",
    "        <span style='font-size: 16px; color: #224499'>label:</span>\n",
    "        <span style='font-size: 18px'>@label</span>\n",
    "    </div>\n",
    "</div>\n",
    "\"\"\"))\n",
    "\n",
    "plot_figure.circle(\n",
    "    'x',\n",
    "    'y',\n",
    "    source=datasource,\n",
    "    color=dict(field='label', transform = color_mapping),\n",
    "    line_alpha=0.7,\n",
    "    fill_alpha=0.7,\n",
    "    size=4\n",
    ")\n",
    "\n",
    "\n",
    "show(plot_figure)"
   ]
  },
  {
   "cell_type": "markdown",
   "metadata": {},
   "source": [
    "# Model Selection (Still need to work)"
   ]
  },
  {
   "cell_type": "markdown",
   "metadata": {},
   "source": [
    "## Functions"
   ]
  },
  {
   "cell_type": "code",
   "execution_count": 77,
   "metadata": {
    "ExecuteTime": {
     "end_time": "2020-03-02T21:59:50.313989Z",
     "start_time": "2020-03-02T21:59:50.290529Z"
    }
   },
   "outputs": [],
   "source": [
    "def train_test(features, labels):\n",
    "    # Split the data into training and testing sets\n",
    "    train_features, test_features, train_labels, test_labels = train_test_split(features, labels, test_size = 0.05, random_state = 42)\n",
    "\n",
    "    return train_features, test_features, train_labels, test_labels\n",
    "    \n",
    "            \n",
    "def important_variables(clf, features):\n",
    "    # Saving feature names for later use\n",
    "    feature_list = list(features.columns)\n",
    "    # Convert to numpy array\n",
    "    \n",
    "    # Get numerical feature importances\n",
    "    importances = list(clf.feature_importances_)\n",
    "    # List of tuples with variable and importance\n",
    "    feature_importances = [(feature, round(importance, 2)) for feature, importance in zip(feature_list, importances)]\n",
    "    # Sort the feature importances by most important first\n",
    "    feature_importances = sorted(feature_importances, key = lambda x: x[1], reverse = True)\n",
    "    # Print out the feature and importances \n",
    "    [print('Variable: {:20} Importance: {}'.format(*pair)) for pair in feature_importances];\n",
    "    \n",
    "    return feature_importances\n",
    "\n",
    "def grid_search(model, train_features, train_labels, test_features):\n",
    "    if model == 'GBR':\n",
    "        model = GradientBoostingRegressor()\n",
    "    elif model == 'RF':\n",
    "        model = RandomForestRegressor()\n",
    "        \n",
    "    params = {'n_estimators' : [10,100,1000], 'max_depth' : [1,3,5,10,100], 'min_samples_leaf': [1,50,150,300]} \n",
    "    gs = GridSearchCV(model, params)\n",
    "    gs.fit(train_features, train_labels)\n",
    "    pred_tuned = gs.predict(test_features)\n",
    "    \n",
    "    print(gs.best_params_)\n",
    "    return pred_tuned, gs\n",
    "\n",
    "\n",
    "def performance_matric(test_labels, predictions, matric):\n",
    "    if matric == 'mae':    \n",
    "        mae = mean_absolute_error(test_labels, predictions)\n",
    "        print(\"MAE: %.4f\" % mae)\n",
    "        \n",
    "    else:\n",
    "        print('Choose the right matric.')\n",
    "    \n",
    "    \n",
    "def visualization(predictions_clf, test_labels):\n",
    "    predictions_clf = pd.DataFrame(predictions_clf)\n",
    "    predictions_clf.set_index(test_labels.index,inplace=True)\n",
    "\n",
    "    comparison = pd.concat([test_labels, predictions_clf], axis=1, sort=True)\n",
    "    comparison.rename(columns = {'time_to_failure': 'actual',  0:'prediction'}, inplace = True)\n",
    "\n",
    "    \n",
    "    comparison.plot\n",
    "    # Plot the actual values\n",
    "    plt.plot(comparison['actual'], 'b-', label = 'actual')\n",
    "    # Plot the predicted values\n",
    "    plt.plot(comparison['prediction'], 'ro', label = 'prediction')\n",
    "    plt.xticks(rotation = '60'); \n",
    "    plt.legend()\n",
    "    # Graph labels\n",
    "    plt.xlabel('data'); plt.ylabel('Time to Failure'); plt.title('Actual and Predicted Values Gradient Boosting');\n"
   ]
  },
  {
   "cell_type": "markdown",
   "metadata": {},
   "source": [
    "## Train Test Prep"
   ]
  },
  {
   "cell_type": "code",
   "execution_count": 78,
   "metadata": {
    "ExecuteTime": {
     "end_time": "2020-03-02T21:59:51.758208Z",
     "start_time": "2020-03-02T21:59:51.648998Z"
    }
   },
   "outputs": [
    {
     "data": {
      "text/plain": [
       "MinMaxScaler(copy=True, feature_range=(0, 1))"
      ]
     },
     "execution_count": 78,
     "metadata": {},
     "output_type": "execute_result"
    },
    {
     "data": {
      "text/plain": [
       "MinMaxScaler(copy=True, feature_range=(0, 1))"
      ]
     },
     "execution_count": 78,
     "metadata": {},
     "output_type": "execute_result"
    },
    {
     "data": {
      "text/plain": [
       "MinMaxScaler(copy=True, feature_range=(0, 1))"
      ]
     },
     "execution_count": 78,
     "metadata": {},
     "output_type": "execute_result"
    },
    {
     "name": "stdout",
     "output_type": "stream",
     "text": [
      "Training Features Shape: (1561, 542)\n",
      "Training Labels Shape: (1561,)\n",
      "Testing Features Shape: (521, 542)\n",
      "Testing Labels Shape: (521,)\n"
     ]
    }
   ],
   "source": [
    "features = training_data.drop('upset', axis= 1)\n",
    "labels = training_data['upset']\n",
    "\n",
    "scaler = MinMaxScaler()\n",
    "scaler.fit(features)\n",
    "features_scaled = scaler.transform(features)\n",
    "\n",
    "#submission_features = test_data.drop('Pred', axis=1)\n",
    "\n",
    "#scaler = MinMaxScaler()\n",
    "#scaler.fit(submission_features)\n",
    "#submission_features_scaled = scaler.transform(submission_features)\n",
    "\n",
    "# Split the data into training and testing sets\n",
    "train_features, test_features, train_labels, test_labels = train_test_split(features_scaled, labels, test_size = 0.25, random_state = 42)\n",
    "\n",
    "scaler = MinMaxScaler()\n",
    "scaler.fit(train_features)\n",
    "train_features_scaled = scaler.transform(train_features)\n",
    "\n",
    "scaler = MinMaxScaler()\n",
    "scaler.fit(test_features)\n",
    "test_features_scaled = scaler.transform(test_features)\n",
    "\n",
    "print('Training Features Shape:', train_features_scaled.shape)\n",
    "print('Training Labels Shape:', train_labels.shape)\n",
    "print('Testing Features Shape:', test_features_scaled.shape)\n",
    "print('Testing Labels Shape:', test_labels.shape)\n",
    "\n",
    "#print('Submission Features Shape:', submission_features_scaled.shape)\n"
   ]
  },
  {
   "cell_type": "code",
   "execution_count": 63,
   "metadata": {
    "ExecuteTime": {
     "end_time": "2020-03-02T21:56:03.420426Z",
     "start_time": "2020-03-02T21:56:03.415332Z"
    }
   },
   "outputs": [],
   "source": [
    "# Saving feature names for later use\n",
    "feature_list = list(features.columns)\n",
    "# Convert to numpy array\n",
    "#features = np.array(features)"
   ]
  },
  {
   "cell_type": "markdown",
   "metadata": {},
   "source": [
    "## Modeling"
   ]
  },
  {
   "cell_type": "markdown",
   "metadata": {},
   "source": [
    "### Baseline Model with Random Forest"
   ]
  },
  {
   "cell_type": "code",
   "execution_count": 64,
   "metadata": {
    "ExecuteTime": {
     "end_time": "2020-03-02T21:57:49.618438Z",
     "start_time": "2020-03-02T21:56:04.939401Z"
    }
   },
   "outputs": [],
   "source": [
    "# Instantiate model with 1000 decision trees\n",
    "rf = RandomForestRegressor(n_estimators = 1000, random_state = 42)\n",
    "# Train the model on training data\n",
    "rf.fit(train_features_scaled, train_labels);"
   ]
  },
  {
   "cell_type": "code",
   "execution_count": 65,
   "metadata": {
    "ExecuteTime": {
     "end_time": "2020-03-02T21:57:50.798377Z",
     "start_time": "2020-03-02T21:57:50.638994Z"
    }
   },
   "outputs": [],
   "source": [
    "# Use the forest's predict method on the test data\n",
    "predictions_rf = rf.predict(test_features_scaled)"
   ]
  },
  {
   "cell_type": "code",
   "execution_count": 66,
   "metadata": {
    "ExecuteTime": {
     "end_time": "2020-03-02T21:57:51.796341Z",
     "start_time": "2020-03-02T21:57:51.782806Z"
    }
   },
   "outputs": [
    {
     "name": "stdout",
     "output_type": "stream",
     "text": [
      "log_loss Error: 9.992007221626413e-16\n"
     ]
    }
   ],
   "source": [
    "# Calculate the log loss\n",
    "logloss = log_loss(test_labels, predictions_rf)\n",
    "# Print out the mean absolute error (mae)\n",
    "print('log_loss Error:', logloss)"
   ]
  },
  {
   "cell_type": "raw",
   "metadata": {
    "ExecuteTime": {
     "end_time": "2020-03-02T21:57:53.269860Z",
     "start_time": "2020-03-02T21:57:52.975304Z"
    }
   },
   "source": [
    "# Get numerical feature importances\n",
    "importances = list(rf.feature_importances_)\n",
    "# List of tuples with variable and importance\n",
    "feature_importances = [(feature, round(importance, 2)) for feature, importance in zip(feature_list, importances)]\n",
    "# Sort the feature importances by most important first\n",
    "feature_importances = sorted(feature_importances, key = lambda x: x[1], reverse = True)\n",
    "# Print out the feature and importances \n",
    "[print('Variable: {:20} Importance: {}'.format(*pair)) for pair in feature_importances];"
   ]
  },
  {
   "cell_type": "raw",
   "metadata": {
    "ExecuteTime": {
     "end_time": "2020-03-02T21:57:54.319917Z",
     "start_time": "2020-03-02T21:57:54.215091Z"
    }
   },
   "source": [
    "# New random forest with only the two most important variables\n",
    "rf_most_important = RandomForestRegressor(n_estimators= 1000, random_state=42)\n",
    "# Extract the two most important features\n",
    "important_features = [feature_importances[0][0], feature_importances[1][0], feature_importances[2][0], feature_importances[3][0], feature_importances[4][0], feature_importances[5][0]]\n",
    "\n",
    "#training_data_important = training_data[important_features]\n",
    "training_data_important = training_data\n",
    "\n",
    "features = training_data_important\n",
    "labels = training_data['Pred']\n",
    "\n",
    "\n",
    "scaler = MinMaxScaler()\n",
    "scaler.fit(features)\n",
    "features_scaled = scaler.transform(features)\n",
    "\n",
    "# Split the data into training and testing sets\n",
    "train_important, test_important, train_labels, test_labels = train_test_split(features_scaled, labels, test_size = 0.25, random_state = 42)\n",
    "\n",
    "scaler = MinMaxScaler()\n",
    "scaler.fit(train_important)\n",
    "train_important_scaled = scaler.transform(train_important)\n",
    "\n",
    "scaler = MinMaxScaler()\n",
    "scaler.fit(test_important)\n",
    "test_important_scaled = scaler.transform(test_important)\n",
    "\n",
    "\n",
    "\n",
    "submission_features = test_data[important_features]\n",
    "scaler = MinMaxScaler()\n",
    "scaler.fit(submission_features)\n",
    "submission_features_scaled = scaler.transform(submission_features)\n",
    "\n",
    "\n",
    "\n",
    "# Train the random forest\n",
    "rf_most_important.fit(train_important_scaled, train_labels)\n",
    "# Make predictions and determine the error\n",
    "predictions_rf = rf_most_important.predict(test_important_scaled)\n",
    "errors = abs(predictions_rf - test_labels.values)\n",
    "\n",
    "# Display the performance metrics\n",
    "log_loss(test_labels, predictions_rf)\n"
   ]
  },
  {
   "cell_type": "code",
   "execution_count": null,
   "metadata": {
    "ExecuteTime": {
     "end_time": "2020-03-02T21:57:54.325051Z",
     "start_time": "2020-03-02T21:56:07.961Z"
    }
   },
   "outputs": [],
   "source": [
    "rf = RandomForestRegressor()\n",
    "params = {\n",
    "    'n_estimators' : [10,100,1000],\n",
    "    'max_depth' : [1,3,5,10,100],\n",
    "    'min_samples_leaf': [1,50,150,300]\n",
    "}\n",
    "gs = GridSearchCV(rf, params)"
   ]
  },
  {
   "cell_type": "code",
   "execution_count": null,
   "metadata": {
    "ExecuteTime": {
     "end_time": "2020-03-02T21:57:54.328562Z",
     "start_time": "2020-03-02T21:56:08.795Z"
    }
   },
   "outputs": [],
   "source": [
    "gs.fit(features_scaled, labels)"
   ]
  },
  {
   "cell_type": "code",
   "execution_count": null,
   "metadata": {
    "ExecuteTime": {
     "end_time": "2020-03-02T21:57:54.331912Z",
     "start_time": "2020-03-02T21:56:09.644Z"
    }
   },
   "outputs": [],
   "source": [
    "gs.best_score_"
   ]
  },
  {
   "cell_type": "code",
   "execution_count": 199,
   "metadata": {
    "ExecuteTime": {
     "end_time": "2020-02-28T23:50:11.519694Z",
     "start_time": "2020-02-28T23:50:09.575556Z"
    }
   },
   "outputs": [
    {
     "ename": "ValueError",
     "evalue": "Number of features of the model must match the input. Model n_features is 539 and input n_features is 6 ",
     "output_type": "error",
     "traceback": [
      "\u001b[1;31m---------------------------------------------------------------------------\u001b[0m",
      "\u001b[1;31mValueError\u001b[0m                                Traceback (most recent call last)",
      "\u001b[1;32m<ipython-input-199-8ae50c3cf5cd>\u001b[0m in \u001b[0;36m<module>\u001b[1;34m\u001b[0m\n\u001b[1;32m----> 1\u001b[1;33m \u001b[0mpreds\u001b[0m \u001b[1;33m=\u001b[0m \u001b[0mgs\u001b[0m\u001b[1;33m.\u001b[0m\u001b[0mbest_estimator_\u001b[0m\u001b[1;33m.\u001b[0m\u001b[0mpredict\u001b[0m\u001b[1;33m(\u001b[0m\u001b[0msubmission_features_scaled\u001b[0m\u001b[1;33m)\u001b[0m\u001b[1;33m\u001b[0m\u001b[1;33m\u001b[0m\u001b[0m\n\u001b[0m",
      "\u001b[1;32mD:\\Programming\\Anaconda\\envs\\kaggle\\lib\\site-packages\\sklearn\\ensemble\\_forest.py\u001b[0m in \u001b[0;36mpredict\u001b[1;34m(self, X)\u001b[0m\n\u001b[0;32m    764\u001b[0m         \u001b[0mcheck_is_fitted\u001b[0m\u001b[1;33m(\u001b[0m\u001b[0mself\u001b[0m\u001b[1;33m)\u001b[0m\u001b[1;33m\u001b[0m\u001b[1;33m\u001b[0m\u001b[0m\n\u001b[0;32m    765\u001b[0m         \u001b[1;31m# Check data\u001b[0m\u001b[1;33m\u001b[0m\u001b[1;33m\u001b[0m\u001b[1;33m\u001b[0m\u001b[0m\n\u001b[1;32m--> 766\u001b[1;33m         \u001b[0mX\u001b[0m \u001b[1;33m=\u001b[0m \u001b[0mself\u001b[0m\u001b[1;33m.\u001b[0m\u001b[0m_validate_X_predict\u001b[0m\u001b[1;33m(\u001b[0m\u001b[0mX\u001b[0m\u001b[1;33m)\u001b[0m\u001b[1;33m\u001b[0m\u001b[1;33m\u001b[0m\u001b[0m\n\u001b[0m\u001b[0;32m    767\u001b[0m \u001b[1;33m\u001b[0m\u001b[0m\n\u001b[0;32m    768\u001b[0m         \u001b[1;31m# Assign chunk of trees to jobs\u001b[0m\u001b[1;33m\u001b[0m\u001b[1;33m\u001b[0m\u001b[1;33m\u001b[0m\u001b[0m\n",
      "\u001b[1;32mD:\\Programming\\Anaconda\\envs\\kaggle\\lib\\site-packages\\sklearn\\ensemble\\_forest.py\u001b[0m in \u001b[0;36m_validate_X_predict\u001b[1;34m(self, X)\u001b[0m\n\u001b[0;32m    410\u001b[0m         \u001b[0mcheck_is_fitted\u001b[0m\u001b[1;33m(\u001b[0m\u001b[0mself\u001b[0m\u001b[1;33m)\u001b[0m\u001b[1;33m\u001b[0m\u001b[1;33m\u001b[0m\u001b[0m\n\u001b[0;32m    411\u001b[0m \u001b[1;33m\u001b[0m\u001b[0m\n\u001b[1;32m--> 412\u001b[1;33m         \u001b[1;32mreturn\u001b[0m \u001b[0mself\u001b[0m\u001b[1;33m.\u001b[0m\u001b[0mestimators_\u001b[0m\u001b[1;33m[\u001b[0m\u001b[1;36m0\u001b[0m\u001b[1;33m]\u001b[0m\u001b[1;33m.\u001b[0m\u001b[0m_validate_X_predict\u001b[0m\u001b[1;33m(\u001b[0m\u001b[0mX\u001b[0m\u001b[1;33m,\u001b[0m \u001b[0mcheck_input\u001b[0m\u001b[1;33m=\u001b[0m\u001b[1;32mTrue\u001b[0m\u001b[1;33m)\u001b[0m\u001b[1;33m\u001b[0m\u001b[1;33m\u001b[0m\u001b[0m\n\u001b[0m\u001b[0;32m    413\u001b[0m \u001b[1;33m\u001b[0m\u001b[0m\n\u001b[0;32m    414\u001b[0m     \u001b[1;33m@\u001b[0m\u001b[0mproperty\u001b[0m\u001b[1;33m\u001b[0m\u001b[1;33m\u001b[0m\u001b[0m\n",
      "\u001b[1;32mD:\\Programming\\Anaconda\\envs\\kaggle\\lib\\site-packages\\sklearn\\tree\\_classes.py\u001b[0m in \u001b[0;36m_validate_X_predict\u001b[1;34m(self, X, check_input)\u001b[0m\n\u001b[0;32m    389\u001b[0m                              \u001b[1;34m\"match the input. Model n_features is %s and \"\u001b[0m\u001b[1;33m\u001b[0m\u001b[1;33m\u001b[0m\u001b[0m\n\u001b[0;32m    390\u001b[0m                              \u001b[1;34m\"input n_features is %s \"\u001b[0m\u001b[1;33m\u001b[0m\u001b[1;33m\u001b[0m\u001b[0m\n\u001b[1;32m--> 391\u001b[1;33m                              % (self.n_features_, n_features))\n\u001b[0m\u001b[0;32m    392\u001b[0m \u001b[1;33m\u001b[0m\u001b[0m\n\u001b[0;32m    393\u001b[0m         \u001b[1;32mreturn\u001b[0m \u001b[0mX\u001b[0m\u001b[1;33m\u001b[0m\u001b[1;33m\u001b[0m\u001b[0m\n",
      "\u001b[1;31mValueError\u001b[0m: Number of features of the model must match the input. Model n_features is 539 and input n_features is 6 "
     ]
    }
   ],
   "source": [
    "preds = gs.best_estimator_.predict(submission_features_scaled)"
   ]
  },
  {
   "cell_type": "code",
   "execution_count": null,
   "metadata": {
    "ExecuteTime": {
     "end_time": "2020-02-28T23:50:11.526675Z",
     "start_time": "2020-02-28T22:54:21.495Z"
    }
   },
   "outputs": [],
   "source": [
    "prediction_df = pd.DataFrame({'Pred':preds})\n",
    "\n",
    "submission = submission_file[['ID','Pred']]\n",
    "submission['Pred'] = prediction_df['Pred']\n",
    "\n",
    "submission\n",
    "submission.to_csv('submission_file_.csv', index=False)"
   ]
  },
  {
   "cell_type": "code",
   "execution_count": null,
   "metadata": {
    "ExecuteTime": {
     "end_time": "2020-02-28T23:50:11.532660Z",
     "start_time": "2020-02-28T22:54:22.252Z"
    }
   },
   "outputs": [],
   "source": [
    "prediction_df['Pred'].hist()"
   ]
  },
  {
   "cell_type": "raw",
   "metadata": {
    "ExecuteTime": {
     "end_time": "2020-02-25T07:51:07.028147Z",
     "start_time": "2020-02-25T07:51:07.015814Z"
    }
   },
   "source": [
    "#error = test_labels.values - preds\n",
    "log_loss(test_labels, preds)"
   ]
  },
  {
   "cell_type": "markdown",
   "metadata": {
    "heading_collapsed": true
   },
   "source": [
    "### Gradient Boosting"
   ]
  },
  {
   "cell_type": "code",
   "execution_count": 189,
   "metadata": {
    "ExecuteTime": {
     "end_time": "2020-02-25T09:46:29.778457Z",
     "start_time": "2020-02-25T09:46:28.115904Z"
    },
    "hidden": true
   },
   "outputs": [
    {
     "name": "stdout",
     "output_type": "stream",
     "text": [
      "logloss: 0.4162\n"
     ]
    }
   ],
   "source": [
    "# Fit regression model\n",
    "params = {'n_estimators': 500, 'max_depth': 4, 'min_samples_split': 2,\n",
    "          'learning_rate': 0.01, 'loss': 'ls'}\n",
    "clf = GradientBoostingRegressor(**params)\n",
    "\n",
    "model = clf.fit(train_features, train_labels)\n",
    "predictions_clf = clf.predict(test_features)\n",
    "logloss = log_loss(test_labels, predictions_clf)\n",
    "print(\"logloss: %.4f\" % logloss)"
   ]
  },
  {
   "cell_type": "code",
   "execution_count": 190,
   "metadata": {
    "ExecuteTime": {
     "end_time": "2020-02-25T09:46:30.894639Z",
     "start_time": "2020-02-25T09:46:30.883662Z"
    },
    "hidden": true
   },
   "outputs": [
    {
     "name": "stdout",
     "output_type": "stream",
     "text": [
      "Variable: Seed_diff            Importance: 0.33\n",
      "Variable: Team_Winrate         Importance: 0.27\n",
      "Variable: Opp_Team_Winrate     Importance: 0.26\n",
      "Variable: Seed_Number          Importance: 0.04\n",
      "Variable: Opp_TeamID           Importance: 0.03\n",
      "Variable: Opp_Seed_Number      Importance: 0.03\n",
      "Variable: TeamID               Importance: 0.02\n",
      "Variable: Season               Importance: 0.01\n",
      "Variable: Seed_Group_W         Importance: 0.0\n",
      "Variable: Seed_Group_X         Importance: 0.0\n",
      "Variable: Seed_Group_Y         Importance: 0.0\n",
      "Variable: Seed_Group_Z         Importance: 0.0\n",
      "Variable: Opp_Seed_Group_W     Importance: 0.0\n",
      "Variable: Opp_Seed_Group_X     Importance: 0.0\n",
      "Variable: Opp_Seed_Group_Y     Importance: 0.0\n",
      "Variable: Opp_Seed_Group_Z     Importance: 0.0\n"
     ]
    }
   ],
   "source": [
    "# Get numerical feature importances\n",
    "importances = list(clf.feature_importances_)\n",
    "# List of tuples with variable and importance\n",
    "feature_importances = [(feature, round(importance, 2)) for feature, importance in zip(feature_list, importances)]\n",
    "# Sort the feature importances by most important first\n",
    "feature_importances = sorted(feature_importances, key = lambda x: x[1], reverse = True)\n",
    "# Print out the feature and importances \n",
    "[print('Variable: {:20} Importance: {}'.format(*pair)) for pair in feature_importances];"
   ]
  },
  {
   "cell_type": "code",
   "execution_count": 192,
   "metadata": {
    "ExecuteTime": {
     "end_time": "2020-02-25T09:48:09.038653Z",
     "start_time": "2020-02-25T09:48:08.153029Z"
    },
    "hidden": true
   },
   "outputs": [
    {
     "data": {
      "text/plain": [
       "MinMaxScaler(copy=True, feature_range=(0, 1))"
      ]
     },
     "execution_count": 192,
     "metadata": {},
     "output_type": "execute_result"
    },
    {
     "data": {
      "text/plain": [
       "MinMaxScaler(copy=True, feature_range=(0, 1))"
      ]
     },
     "execution_count": 192,
     "metadata": {},
     "output_type": "execute_result"
    },
    {
     "data": {
      "text/plain": [
       "GradientBoostingRegressor(alpha=0.9, ccp_alpha=0.0, criterion='friedman_mse',\n",
       "                          init=None, learning_rate=0.1, loss='ls', max_depth=3,\n",
       "                          max_features=None, max_leaf_nodes=None,\n",
       "                          min_impurity_decrease=0.0, min_impurity_split=None,\n",
       "                          min_samples_leaf=1, min_samples_split=2,\n",
       "                          min_weight_fraction_leaf=0.0, n_estimators=1000,\n",
       "                          n_iter_no_change=None, presort='deprecated',\n",
       "                          random_state=42, subsample=1.0, tol=0.0001,\n",
       "                          validation_fraction=0.1, verbose=0, warm_start=False)"
      ]
     },
     "execution_count": 192,
     "metadata": {},
     "output_type": "execute_result"
    },
    {
     "name": "stdout",
     "output_type": "stream",
     "text": [
      "Log Loss: 0.5542903469999384\n"
     ]
    }
   ],
   "source": [
    "# New random forest with only the two most important variables\n",
    "clf_most_important = GradientBoostingRegressor(n_estimators= 1000, random_state=42)\n",
    "# Extract the two most important features\n",
    "important_features = [feature_importances[0][0], feature_importances[1][0], feature_importances[2][0], feature_importances[3][0]]\n",
    "\n",
    "training_data_important = training_data[important_features]\n",
    "features = training_data_important\n",
    "\n",
    "scaler = MinMaxScaler()\n",
    "scaler.fit(features)\n",
    "features_scaled = scaler.transform(features)\n",
    "\n",
    "# Split the data into training and testing sets\n",
    "train_important, test_important, train_labels, test_labels = train_test_split(features_scaled, labels, test_size = 0.25, random_state = 42)\n",
    "\n",
    "\n",
    "submission_features = test_data[important_features]\n",
    "scaler = MinMaxScaler()\n",
    "scaler.fit(submission_features)\n",
    "submission_features_scaled = scaler.transform(submission_features)\n",
    "\n",
    "# Train the random forest\n",
    "clf_most_important.fit(train_important, train_labels)\n",
    "\n",
    "# Make predictions and determine the error\n",
    "predictions = clf_most_important.predict(test_important)\n",
    "logloss = log_loss(test_labels, predictions)\n",
    "\n",
    "# Display the performance metrics\n",
    "print('Log Loss:', logloss)"
   ]
  },
  {
   "cell_type": "code",
   "execution_count": 193,
   "metadata": {
    "ExecuteTime": {
     "end_time": "2020-02-25T09:50:23.364096Z",
     "start_time": "2020-02-25T09:48:10.383060Z"
    },
    "hidden": true
   },
   "outputs": [
    {
     "data": {
      "text/plain": [
       "GridSearchCV(cv=None, error_score=nan,\n",
       "             estimator=GradientBoostingRegressor(alpha=0.9, ccp_alpha=0.0,\n",
       "                                                 criterion='friedman_mse',\n",
       "                                                 init=None, learning_rate=0.1,\n",
       "                                                 loss='ls', max_depth=3,\n",
       "                                                 max_features=None,\n",
       "                                                 max_leaf_nodes=None,\n",
       "                                                 min_impurity_decrease=0.0,\n",
       "                                                 min_impurity_split=None,\n",
       "                                                 min_samples_leaf=1,\n",
       "                                                 min_samples_split=2,\n",
       "                                                 min_weight_fraction_leaf=0.0,\n",
       "                                                 n_estimators=100,\n",
       "                                                 n_iter_no_change=None,\n",
       "                                                 presort='deprecated',\n",
       "                                                 random_state=None,\n",
       "                                                 subsample=1.0, tol=0.0001,\n",
       "                                                 validation_fraction=0.1,\n",
       "                                                 verbose=0, warm_start=False),\n",
       "             iid='deprecated', n_jobs=None,\n",
       "             param_grid={'max_depth': [1, 3, 5, 10, 100],\n",
       "                         'min_samples_leaf': [1, 50, 150, 300],\n",
       "                         'n_estimators': [10, 100, 1000]},\n",
       "             pre_dispatch='2*n_jobs', refit=True, return_train_score=False,\n",
       "             scoring=None, verbose=0)"
      ]
     },
     "execution_count": 193,
     "metadata": {},
     "output_type": "execute_result"
    },
    {
     "data": {
      "text/plain": [
       "0.07748280875816448"
      ]
     },
     "execution_count": 193,
     "metadata": {},
     "output_type": "execute_result"
    }
   ],
   "source": [
    "clf = GradientBoostingRegressor()\n",
    "params = {\n",
    "    'n_estimators' : [10,100,1000],\n",
    "    'max_depth' : [1,3,5,10,100],\n",
    "    'min_samples_leaf': [1,50,150,300]\n",
    "}\n",
    "gs_clf = GridSearchCV(clf, params)\n",
    "gs_clf.fit(features, labels)\n",
    "gs_clf.best_score_"
   ]
  },
  {
   "cell_type": "code",
   "execution_count": 194,
   "metadata": {
    "ExecuteTime": {
     "end_time": "2020-02-25T09:50:24.125057Z",
     "start_time": "2020-02-25T09:50:24.112064Z"
    },
    "hidden": true
   },
   "outputs": [],
   "source": [
    "preds_clf = gs_clf.best_estimator_.predict(submission_features_scaled)"
   ]
  },
  {
   "cell_type": "code",
   "execution_count": 195,
   "metadata": {
    "ExecuteTime": {
     "end_time": "2020-02-25T09:50:24.912924Z",
     "start_time": "2020-02-25T09:50:24.863057Z"
    },
    "hidden": true
   },
   "outputs": [
    {
     "data": {
      "text/html": [
       "<div>\n",
       "<style scoped>\n",
       "    .dataframe tbody tr th:only-of-type {\n",
       "        vertical-align: middle;\n",
       "    }\n",
       "\n",
       "    .dataframe tbody tr th {\n",
       "        vertical-align: top;\n",
       "    }\n",
       "\n",
       "    .dataframe thead th {\n",
       "        text-align: right;\n",
       "    }\n",
       "</style>\n",
       "<table border=\"1\" class=\"dataframe\">\n",
       "  <thead>\n",
       "    <tr style=\"text-align: right;\">\n",
       "      <th></th>\n",
       "      <th>Pred</th>\n",
       "    </tr>\n",
       "  </thead>\n",
       "  <tbody>\n",
       "    <tr>\n",
       "      <th>0</th>\n",
       "      <td>0.438073</td>\n",
       "    </tr>\n",
       "    <tr>\n",
       "      <th>1</th>\n",
       "      <td>0.438073</td>\n",
       "    </tr>\n",
       "    <tr>\n",
       "      <th>2</th>\n",
       "      <td>0.438073</td>\n",
       "    </tr>\n",
       "    <tr>\n",
       "      <th>3</th>\n",
       "      <td>0.472664</td>\n",
       "    </tr>\n",
       "    <tr>\n",
       "      <th>4</th>\n",
       "      <td>-0.050813</td>\n",
       "    </tr>\n",
       "    <tr>\n",
       "      <th>...</th>\n",
       "      <td>...</td>\n",
       "    </tr>\n",
       "    <tr>\n",
       "      <th>11385</th>\n",
       "      <td>0.438073</td>\n",
       "    </tr>\n",
       "    <tr>\n",
       "      <th>11386</th>\n",
       "      <td>-0.038664</td>\n",
       "    </tr>\n",
       "    <tr>\n",
       "      <th>11387</th>\n",
       "      <td>0.963183</td>\n",
       "    </tr>\n",
       "    <tr>\n",
       "      <th>11388</th>\n",
       "      <td>0.963183</td>\n",
       "    </tr>\n",
       "    <tr>\n",
       "      <th>11389</th>\n",
       "      <td>0.472664</td>\n",
       "    </tr>\n",
       "  </tbody>\n",
       "</table>\n",
       "<p>11390 rows × 1 columns</p>\n",
       "</div>"
      ],
      "text/plain": [
       "           Pred\n",
       "0      0.438073\n",
       "1      0.438073\n",
       "2      0.438073\n",
       "3      0.472664\n",
       "4     -0.050813\n",
       "...         ...\n",
       "11385  0.438073\n",
       "11386 -0.038664\n",
       "11387  0.963183\n",
       "11388  0.963183\n",
       "11389  0.472664\n",
       "\n",
       "[11390 rows x 1 columns]"
      ]
     },
     "execution_count": 195,
     "metadata": {},
     "output_type": "execute_result"
    },
    {
     "name": "stderr",
     "output_type": "stream",
     "text": [
      "<ipython-input-195-6d69c9710c02>:5: SettingWithCopyWarning: \n",
      "A value is trying to be set on a copy of a slice from a DataFrame.\n",
      "Try using .loc[row_indexer,col_indexer] = value instead\n",
      "\n",
      "See the caveats in the documentation: https://pandas.pydata.org/pandas-docs/stable/user_guide/indexing.html#returning-a-view-versus-a-copy\n",
      "  submission_clf['Pred'] = prediction_clf_df['Pred']\n"
     ]
    },
    {
     "data": {
      "text/html": [
       "<div>\n",
       "<style scoped>\n",
       "    .dataframe tbody tr th:only-of-type {\n",
       "        vertical-align: middle;\n",
       "    }\n",
       "\n",
       "    .dataframe tbody tr th {\n",
       "        vertical-align: top;\n",
       "    }\n",
       "\n",
       "    .dataframe thead th {\n",
       "        text-align: right;\n",
       "    }\n",
       "</style>\n",
       "<table border=\"1\" class=\"dataframe\">\n",
       "  <thead>\n",
       "    <tr style=\"text-align: right;\">\n",
       "      <th></th>\n",
       "      <th>ID</th>\n",
       "      <th>Pred</th>\n",
       "    </tr>\n",
       "  </thead>\n",
       "  <tbody>\n",
       "    <tr>\n",
       "      <th>0</th>\n",
       "      <td>2015_1107_1112</td>\n",
       "      <td>0.438073</td>\n",
       "    </tr>\n",
       "    <tr>\n",
       "      <th>1</th>\n",
       "      <td>2015_1107_1116</td>\n",
       "      <td>0.438073</td>\n",
       "    </tr>\n",
       "    <tr>\n",
       "      <th>2</th>\n",
       "      <td>2015_1107_1124</td>\n",
       "      <td>0.438073</td>\n",
       "    </tr>\n",
       "    <tr>\n",
       "      <th>3</th>\n",
       "      <td>2015_1107_1125</td>\n",
       "      <td>0.472664</td>\n",
       "    </tr>\n",
       "    <tr>\n",
       "      <th>4</th>\n",
       "      <td>2015_1107_1129</td>\n",
       "      <td>-0.050813</td>\n",
       "    </tr>\n",
       "    <tr>\n",
       "      <th>...</th>\n",
       "      <td>...</td>\n",
       "      <td>...</td>\n",
       "    </tr>\n",
       "    <tr>\n",
       "      <th>11385</th>\n",
       "      <td>2019_1449_1459</td>\n",
       "      <td>0.438073</td>\n",
       "    </tr>\n",
       "    <tr>\n",
       "      <th>11386</th>\n",
       "      <td>2019_1449_1463</td>\n",
       "      <td>-0.038664</td>\n",
       "    </tr>\n",
       "    <tr>\n",
       "      <th>11387</th>\n",
       "      <td>2019_1458_1459</td>\n",
       "      <td>0.963183</td>\n",
       "    </tr>\n",
       "    <tr>\n",
       "      <th>11388</th>\n",
       "      <td>2019_1458_1463</td>\n",
       "      <td>0.963183</td>\n",
       "    </tr>\n",
       "    <tr>\n",
       "      <th>11389</th>\n",
       "      <td>2019_1459_1463</td>\n",
       "      <td>0.472664</td>\n",
       "    </tr>\n",
       "  </tbody>\n",
       "</table>\n",
       "<p>11390 rows × 2 columns</p>\n",
       "</div>"
      ],
      "text/plain": [
       "                   ID      Pred\n",
       "0      2015_1107_1112  0.438073\n",
       "1      2015_1107_1116  0.438073\n",
       "2      2015_1107_1124  0.438073\n",
       "3      2015_1107_1125  0.472664\n",
       "4      2015_1107_1129 -0.050813\n",
       "...               ...       ...\n",
       "11385  2019_1449_1459  0.438073\n",
       "11386  2019_1449_1463 -0.038664\n",
       "11387  2019_1458_1459  0.963183\n",
       "11388  2019_1458_1463  0.963183\n",
       "11389  2019_1459_1463  0.472664\n",
       "\n",
       "[11390 rows x 2 columns]"
      ]
     },
     "execution_count": 195,
     "metadata": {},
     "output_type": "execute_result"
    }
   ],
   "source": [
    "prediction_clf_df = pd.DataFrame({'Pred':preds_clf})\n",
    "prediction_clf_df\n",
    "\n",
    "submission_clf = submission_file[['ID','Pred']]\n",
    "submission_clf['Pred'] = prediction_clf_df['Pred']\n",
    "\n",
    "submission_clf\n",
    "submission_clf.to_csv('submission_file_clf_.csv', index=False)"
   ]
  },
  {
   "cell_type": "raw",
   "metadata": {
    "ExecuteTime": {
     "end_time": "2020-02-25T09:50:52.642329Z",
     "start_time": "2020-02-25T09:50:52.438873Z"
    },
    "hidden": true
   },
   "source": [
    "prediction_df['Pred'].hist()"
   ]
  },
  {
   "cell_type": "raw",
   "metadata": {
    "hidden": true
   },
   "source": [
    "logloss = log_loss(test_labels, predictions)\n",
    "\n",
    "# Display the performance metrics\n",
    "print('Log Loss:', logloss)"
   ]
  },
  {
   "cell_type": "markdown",
   "metadata": {
    "heading_collapsed": true
   },
   "source": [
    "### Simple Neural Network (Not Started)"
   ]
  },
  {
   "cell_type": "code",
   "execution_count": null,
   "metadata": {
    "hidden": true
   },
   "outputs": [],
   "source": []
  },
  {
   "cell_type": "markdown",
   "metadata": {
    "heading_collapsed": true
   },
   "source": [
    "### Convolutional Neural Network"
   ]
  },
  {
   "cell_type": "code",
   "execution_count": null,
   "metadata": {
    "hidden": true
   },
   "outputs": [],
   "source": []
  },
  {
   "cell_type": "markdown",
   "metadata": {},
   "source": [
    "### Recurrent Neural Network"
   ]
  },
  {
   "cell_type": "markdown",
   "metadata": {
    "ExecuteTime": {
     "end_time": "2020-02-26T07:48:09.861823Z",
     "start_time": "2020-02-26T07:48:09.858870Z"
    }
   },
   "source": [
    "#### Reshape"
   ]
  },
  {
   "cell_type": "code",
   "execution_count": 176,
   "metadata": {
    "ExecuteTime": {
     "end_time": "2020-02-28T22:35:19.982734Z",
     "start_time": "2020-02-28T22:35:19.975754Z"
    }
   },
   "outputs": [
    {
     "name": "stdout",
     "output_type": "stream",
     "text": [
      "shape of x_train_reshaped: (1561, 1, 538), \n",
      "shape of x_test_reshaped: (521, 1, 538)\n"
     ]
    }
   ],
   "source": [
    "train_features_scaled_reshaped = train_features.reshape(train_features.shape[0],1, train_features.shape[1])\n",
    "\n",
    "test_features_scaled_reshaped = test_features.reshape(test_features.shape[0],1, test_features.shape[1])\n",
    "print (f\"shape of x_train_reshaped: {train_features_scaled_reshaped.shape}, \\nshape of x_test_reshaped: {test_features_scaled_reshaped.shape}\")"
   ]
  },
  {
   "cell_type": "markdown",
   "metadata": {
    "ExecuteTime": {
     "end_time": "2020-02-26T08:17:50.862489Z",
     "start_time": "2020-02-26T08:17:50.859492Z"
    }
   },
   "source": [
    "#### Build and Train the Model"
   ]
  },
  {
   "cell_type": "code",
   "execution_count": 177,
   "metadata": {
    "ExecuteTime": {
     "end_time": "2020-02-28T22:35:21.414933Z",
     "start_time": "2020-02-28T22:35:21.410917Z"
    }
   },
   "outputs": [],
   "source": [
    "n_timesteps, n_features, n_outputs = train_features_scaled_reshaped.shape[1], train_features_scaled_reshaped.shape[2], 1"
   ]
  },
  {
   "cell_type": "markdown",
   "metadata": {},
   "source": [
    "##### First Model"
   ]
  },
  {
   "cell_type": "code",
   "execution_count": 181,
   "metadata": {
    "ExecuteTime": {
     "end_time": "2020-02-28T22:36:02.911556Z",
     "start_time": "2020-02-28T22:36:02.906569Z"
    }
   },
   "outputs": [],
   "source": [
    "# define model\n",
    "\n",
    "def create_baseline():\n",
    "\n",
    "    model_RNN = Sequential()\n",
    "    model_RNN.add(SimpleRNN(286, activation='sigmoid', input_shape = (n_timesteps, n_features)))\n",
    "    #model_RNN.add(Dropout(0.1))\n",
    "    model_RNN.add(Dense(100, activation='sigmoid'))\n",
    "    #model_RNN.add(Dropout(0.1))\n",
    "    #model_RNN.add(Dense(50, activation='sigmoid'))\n",
    "    model_RNN.add(Dense(n_outputs))\n",
    "\n",
    "    model_RNN.compile(loss='binary_crossentropy', optimizer='adam',  metrics=['accuracy'])\n",
    "\n",
    "    #model_RNN.summary()\n",
    "    return model_RNN"
   ]
  },
  {
   "cell_type": "code",
   "execution_count": 186,
   "metadata": {
    "ExecuteTime": {
     "end_time": "2020-02-28T22:52:46.018969Z",
     "start_time": "2020-02-28T22:52:45.911266Z"
    }
   },
   "outputs": [],
   "source": [
    "model_RNN = Sequential()\n",
    "model_RNN.add(SimpleRNN(286, activation='sigmoid', input_shape = (n_timesteps, n_features)))\n",
    "#model_RNN.add(Dropout(0.1))\n",
    "model_RNN.add(Dense(100, activation='sigmoid'))\n",
    "#model_RNN.add(Dropout(0.1))\n",
    "#model_RNN.add(Dense(50, activation='sigmoid'))\n",
    "model_RNN.add(Dense(n_outputs))\n",
    "\n",
    "model_RNN.compile(loss='binary_crossentropy', optimizer='adam',  metrics=['accuracy'])"
   ]
  },
  {
   "cell_type": "code",
   "execution_count": 182,
   "metadata": {
    "ExecuteTime": {
     "end_time": "2020-02-28T22:49:08.094173Z",
     "start_time": "2020-02-28T22:36:04.011615Z"
    }
   },
   "outputs": [
    {
     "name": "stdout",
     "output_type": "stream",
     "text": [
      "Baseline: 10.03% (20.06%)\n"
     ]
    }
   ],
   "source": [
    "# evaluate model with standardized dataset\n",
    "estimator = KerasClassifier(build_fn=create_baseline, epochs=100, batch_size=5, verbose=0)\n",
    "kfold = StratifiedKFold(n_splits=10, shuffle=True)\n",
    "results = cross_val_score(estimator, train_features_scaled_reshaped, train_labels, cv=kfold)\n",
    "print(\"Baseline: %.2f%% (%.2f%%)\" % (results.mean()*100, results.std()*100))"
   ]
  },
  {
   "cell_type": "code",
   "execution_count": 183,
   "metadata": {
    "ExecuteTime": {
     "end_time": "2020-02-28T22:49:09.568556Z",
     "start_time": "2020-02-28T22:49:09.101246Z"
    }
   },
   "outputs": [
    {
     "name": "stdout",
     "output_type": "stream",
     "text": [
      "Standardized: nan% (nan%)\n"
     ]
    },
    {
     "name": "stderr",
     "output_type": "stream",
     "text": [
      "D:\\Programming\\Anaconda\\envs\\kaggle\\lib\\site-packages\\sklearn\\model_selection\\_validation.py:536: FitFailedWarning: Estimator fit failed. The score on this train-test partition for these parameters will be set to nan. Details: \n",
      "ValueError: Found array with dim 3. MinMaxScaler expected <= 2.\n",
      "\n",
      "  FitFailedWarning)\n",
      "D:\\Programming\\Anaconda\\envs\\kaggle\\lib\\site-packages\\sklearn\\model_selection\\_validation.py:536: FitFailedWarning: Estimator fit failed. The score on this train-test partition for these parameters will be set to nan. Details: \n",
      "ValueError: Found array with dim 3. MinMaxScaler expected <= 2.\n",
      "\n",
      "  FitFailedWarning)\n",
      "D:\\Programming\\Anaconda\\envs\\kaggle\\lib\\site-packages\\sklearn\\model_selection\\_validation.py:536: FitFailedWarning: Estimator fit failed. The score on this train-test partition for these parameters will be set to nan. Details: \n",
      "ValueError: Found array with dim 3. MinMaxScaler expected <= 2.\n",
      "\n",
      "  FitFailedWarning)\n",
      "D:\\Programming\\Anaconda\\envs\\kaggle\\lib\\site-packages\\sklearn\\model_selection\\_validation.py:536: FitFailedWarning: Estimator fit failed. The score on this train-test partition for these parameters will be set to nan. Details: \n",
      "ValueError: Found array with dim 3. MinMaxScaler expected <= 2.\n",
      "\n",
      "  FitFailedWarning)\n",
      "D:\\Programming\\Anaconda\\envs\\kaggle\\lib\\site-packages\\sklearn\\model_selection\\_validation.py:536: FitFailedWarning: Estimator fit failed. The score on this train-test partition for these parameters will be set to nan. Details: \n",
      "ValueError: Found array with dim 3. MinMaxScaler expected <= 2.\n",
      "\n",
      "  FitFailedWarning)\n",
      "D:\\Programming\\Anaconda\\envs\\kaggle\\lib\\site-packages\\sklearn\\model_selection\\_validation.py:536: FitFailedWarning: Estimator fit failed. The score on this train-test partition for these parameters will be set to nan. Details: \n",
      "ValueError: Found array with dim 3. MinMaxScaler expected <= 2.\n",
      "\n",
      "  FitFailedWarning)\n",
      "D:\\Programming\\Anaconda\\envs\\kaggle\\lib\\site-packages\\sklearn\\model_selection\\_validation.py:536: FitFailedWarning: Estimator fit failed. The score on this train-test partition for these parameters will be set to nan. Details: \n",
      "ValueError: Found array with dim 3. MinMaxScaler expected <= 2.\n",
      "\n",
      "  FitFailedWarning)\n",
      "D:\\Programming\\Anaconda\\envs\\kaggle\\lib\\site-packages\\sklearn\\model_selection\\_validation.py:536: FitFailedWarning: Estimator fit failed. The score on this train-test partition for these parameters will be set to nan. Details: \n",
      "ValueError: Found array with dim 3. MinMaxScaler expected <= 2.\n",
      "\n",
      "  FitFailedWarning)\n",
      "D:\\Programming\\Anaconda\\envs\\kaggle\\lib\\site-packages\\sklearn\\model_selection\\_validation.py:536: FitFailedWarning: Estimator fit failed. The score on this train-test partition for these parameters will be set to nan. Details: \n",
      "ValueError: Found array with dim 3. MinMaxScaler expected <= 2.\n",
      "\n",
      "  FitFailedWarning)\n",
      "D:\\Programming\\Anaconda\\envs\\kaggle\\lib\\site-packages\\sklearn\\model_selection\\_validation.py:536: FitFailedWarning: Estimator fit failed. The score on this train-test partition for these parameters will be set to nan. Details: \n",
      "ValueError: Found array with dim 3. MinMaxScaler expected <= 2.\n",
      "\n",
      "  FitFailedWarning)\n"
     ]
    }
   ],
   "source": [
    "estimators = []\n",
    "estimators.append(('standardize', MinMaxScaler()))\n",
    "estimators.append(('mlp', KerasClassifier(build_fn=create_baseline, epochs=100, batch_size=5, verbose=0)))\n",
    "pipeline = Pipeline(estimators)\n",
    "kfold = StratifiedKFold(n_splits=10, shuffle=True)\n",
    "results = cross_val_score(pipeline, train_features_scaled_reshaped, train_labels, cv=kfold)\n",
    "print(\"Standardized: %.2f%% (%.2f%%)\" % (results.mean()*100, results.std()*100))"
   ]
  },
  {
   "cell_type": "code",
   "execution_count": 184,
   "metadata": {
    "ExecuteTime": {
     "end_time": "2020-02-28T22:49:10.711563Z",
     "start_time": "2020-02-28T22:49:10.707573Z"
    }
   },
   "outputs": [],
   "source": [
    "epochs = 700\n",
    "batch_size = 72\n",
    "verbose = 1\n",
    "# Set callback functions to early stop training and save the best model so far\n",
    "callbacks = [EarlyStopping(monitor='val_loss', patience=2)]"
   ]
  },
  {
   "cell_type": "code",
   "execution_count": 187,
   "metadata": {
    "ExecuteTime": {
     "end_time": "2020-02-28T22:52:56.345593Z",
     "start_time": "2020-02-28T22:52:54.567075Z"
    }
   },
   "outputs": [
    {
     "name": "stdout",
     "output_type": "stream",
     "text": [
      "Train on 1248 samples, validate on 313 samples\n",
      "Epoch 1/70\n",
      "1248/1248 [==============================] - 1s 560us/step - loss: 7.4692 - accuracy: 0.0665 - val_loss: 6.9486 - val_accuracy: 0.0000e+00\n",
      "Epoch 2/70\n",
      "1248/1248 [==============================] - ETA: 0s - loss: 7.9926 - accuracy: 0.0000e+ - 0s 69us/step - loss: 7.8855 - accuracy: 0.0000e+00 - val_loss: 6.9486 - val_accuracy: 0.0000e+00\n",
      "Epoch 3/70\n",
      "1248/1248 [==============================] - 0s 67us/step - loss: 7.8855 - accuracy: 0.0000e+00 - val_loss: 6.9486 - val_accuracy: 0.0000e+00\n"
     ]
    }
   ],
   "source": [
    "# fit network\n",
    "history = model_RNN.fit(train_features_scaled_reshaped, train_labels, epochs=70, batch_size=batch_size, verbose=verbose, validation_split = 0.2, callbacks=callbacks)"
   ]
  },
  {
   "cell_type": "code",
   "execution_count": 188,
   "metadata": {
    "ExecuteTime": {
     "end_time": "2020-02-28T22:52:57.782789Z",
     "start_time": "2020-02-28T22:52:57.341928Z"
    }
   },
   "outputs": [
    {
     "data": {
      "text/plain": [
       "[<matplotlib.lines.Line2D at 0x298cb83d630>]"
      ]
     },
     "execution_count": 188,
     "metadata": {},
     "output_type": "execute_result"
    },
    {
     "data": {
      "text/plain": [
       "[<matplotlib.lines.Line2D at 0x298e36b8588>]"
      ]
     },
     "execution_count": 188,
     "metadata": {},
     "output_type": "execute_result"
    },
    {
     "data": {
      "text/plain": [
       "Text(0.5, 1.0, 'model accuracy')"
      ]
     },
     "execution_count": 188,
     "metadata": {},
     "output_type": "execute_result"
    },
    {
     "data": {
      "text/plain": [
       "Text(0, 0.5, 'accuracy')"
      ]
     },
     "execution_count": 188,
     "metadata": {},
     "output_type": "execute_result"
    },
    {
     "data": {
      "text/plain": [
       "Text(0.5, 0, 'epoch')"
      ]
     },
     "execution_count": 188,
     "metadata": {},
     "output_type": "execute_result"
    },
    {
     "data": {
      "text/plain": [
       "<matplotlib.legend.Legend at 0x298df160978>"
      ]
     },
     "execution_count": 188,
     "metadata": {},
     "output_type": "execute_result"
    },
    {
     "data": {
      "image/png": "[encoded data removed]",
      "text/plain": [
       "<Figure size 1440x864 with 1 Axes>"
      ]
     },
     "metadata": {
      "needs_background": "light"
     },
     "output_type": "display_data"
    },
    {
     "data": {
      "text/plain": [
       "[<matplotlib.lines.Line2D at 0x298e09fd780>]"
      ]
     },
     "execution_count": 188,
     "metadata": {},
     "output_type": "execute_result"
    },
    {
     "data": {
      "text/plain": [
       "[<matplotlib.lines.Line2D at 0x298a7eb9c50>]"
      ]
     },
     "execution_count": 188,
     "metadata": {},
     "output_type": "execute_result"
    },
    {
     "data": {
      "text/plain": [
       "Text(0.5, 1.0, 'model loss')"
      ]
     },
     "execution_count": 188,
     "metadata": {},
     "output_type": "execute_result"
    },
    {
     "data": {
      "text/plain": [
       "Text(0, 0.5, 'loss')"
      ]
     },
     "execution_count": 188,
     "metadata": {},
     "output_type": "execute_result"
    },
    {
     "data": {
      "text/plain": [
       "Text(0.5, 0, 'epoch')"
      ]
     },
     "execution_count": 188,
     "metadata": {},
     "output_type": "execute_result"
    },
    {
     "data": {
      "text/plain": [
       "<matplotlib.legend.Legend at 0x298e0a3e4a8>"
      ]
     },
     "execution_count": 188,
     "metadata": {},
     "output_type": "execute_result"
    },
    {
     "data": {
      "image/png": "[encoded data removed]",
      "text/plain": [
       "<Figure size 1440x864 with 1 Axes>"
      ]
     },
     "metadata": {
      "needs_background": "light"
     },
     "output_type": "display_data"
    }
   ],
   "source": [
    "# summarize history for accuracy\n",
    "plt.plot(history.history['accuracy'])\n",
    "plt.plot(history.history['val_accuracy'])\n",
    "plt.title('model accuracy')\n",
    "plt.ylabel('accuracy')\n",
    "plt.xlabel('epoch')\n",
    "plt.legend(['train', 'val'], loc='upper left')\n",
    "plt.show()\n",
    "# summarize history for loss\n",
    "plt.plot(history.history['loss'])\n",
    "plt.plot(history.history['val_loss'])\n",
    "plt.title('model loss')\n",
    "plt.ylabel('loss')\n",
    "plt.xlabel('epoch')\n",
    "plt.legend(['train', 'val'], loc='upper left')\n",
    "plt.show()"
   ]
  },
  {
   "cell_type": "code",
   "execution_count": 189,
   "metadata": {
    "ExecuteTime": {
     "end_time": "2020-02-28T22:53:03.785787Z",
     "start_time": "2020-02-28T22:53:03.555399Z"
    }
   },
   "outputs": [],
   "source": [
    "y_predict = model_RNN.predict(test_features_scaled_reshaped, verbose)"
   ]
  },
  {
   "cell_type": "code",
   "execution_count": 190,
   "metadata": {
    "ExecuteTime": {
     "end_time": "2020-02-28T22:53:04.803063Z",
     "start_time": "2020-02-28T22:53:04.793090Z"
    }
   },
   "outputs": [
    {
     "data": {
      "text/html": [
       "<div>\n",
       "<style scoped>\n",
       "    .dataframe tbody tr th:only-of-type {\n",
       "        vertical-align: middle;\n",
       "    }\n",
       "\n",
       "    .dataframe tbody tr th {\n",
       "        vertical-align: top;\n",
       "    }\n",
       "\n",
       "    .dataframe thead th {\n",
       "        text-align: right;\n",
       "    }\n",
       "</style>\n",
       "<table border=\"1\" class=\"dataframe\">\n",
       "  <thead>\n",
       "    <tr style=\"text-align: right;\">\n",
       "      <th></th>\n",
       "      <th>actual</th>\n",
       "      <th>prediction</th>\n",
       "    </tr>\n",
       "  </thead>\n",
       "  <tbody>\n",
       "    <tr>\n",
       "      <th>3645</th>\n",
       "      <td>0</td>\n",
       "      <td>-3.053110</td>\n",
       "    </tr>\n",
       "    <tr>\n",
       "      <th>1946</th>\n",
       "      <td>1</td>\n",
       "      <td>-3.070659</td>\n",
       "    </tr>\n",
       "    <tr>\n",
       "      <th>3793</th>\n",
       "      <td>0</td>\n",
       "      <td>-2.991613</td>\n",
       "    </tr>\n",
       "    <tr>\n",
       "      <th>1165</th>\n",
       "      <td>1</td>\n",
       "      <td>-3.065808</td>\n",
       "    </tr>\n",
       "    <tr>\n",
       "      <th>1668</th>\n",
       "      <td>1</td>\n",
       "      <td>-3.047490</td>\n",
       "    </tr>\n",
       "    <tr>\n",
       "      <th>...</th>\n",
       "      <td>...</td>\n",
       "      <td>...</td>\n",
       "    </tr>\n",
       "    <tr>\n",
       "      <th>3366</th>\n",
       "      <td>0</td>\n",
       "      <td>-3.031278</td>\n",
       "    </tr>\n",
       "    <tr>\n",
       "      <th>2017</th>\n",
       "      <td>1</td>\n",
       "      <td>-3.014815</td>\n",
       "    </tr>\n",
       "    <tr>\n",
       "      <th>3841</th>\n",
       "      <td>0</td>\n",
       "      <td>-3.033188</td>\n",
       "    </tr>\n",
       "    <tr>\n",
       "      <th>4104</th>\n",
       "      <td>0</td>\n",
       "      <td>-3.042076</td>\n",
       "    </tr>\n",
       "    <tr>\n",
       "      <th>3720</th>\n",
       "      <td>0</td>\n",
       "      <td>-3.119427</td>\n",
       "    </tr>\n",
       "  </tbody>\n",
       "</table>\n",
       "<p>521 rows × 2 columns</p>\n",
       "</div>"
      ],
      "text/plain": [
       "      actual  prediction\n",
       "3645       0   -3.053110\n",
       "1946       1   -3.070659\n",
       "3793       0   -2.991613\n",
       "1165       1   -3.065808\n",
       "1668       1   -3.047490\n",
       "...      ...         ...\n",
       "3366       0   -3.031278\n",
       "2017       1   -3.014815\n",
       "3841       0   -3.033188\n",
       "4104       0   -3.042076\n",
       "3720       0   -3.119427\n",
       "\n",
       "[521 rows x 2 columns]"
      ]
     },
     "execution_count": 190,
     "metadata": {},
     "output_type": "execute_result"
    }
   ],
   "source": [
    "y_predict = y_predict.reshape(len(y_predict),)\n",
    "\n",
    "new_df = pd.DataFrame({'actual':test_labels, 'prediction':y_predict})\n",
    "#new_df.to_csv(\"E:\\Data Science\\Personal_Project\\RNN - Solar Farm\\Data\\prediction_vs_actual.csv\", index = False)\n",
    "new_df"
   ]
  },
  {
   "cell_type": "code",
   "execution_count": 89,
   "metadata": {
    "ExecuteTime": {
     "end_time": "2020-02-26T08:34:05.508175Z",
     "start_time": "2020-02-26T08:34:05.158607Z"
    }
   },
   "outputs": [
    {
     "data": {
      "text/plain": [
       "[<matplotlib.lines.Line2D at 0x1bb4ffdf6d8>]"
      ]
     },
     "execution_count": 89,
     "metadata": {},
     "output_type": "execute_result"
    },
    {
     "data": {
      "text/plain": [
       "[<matplotlib.lines.Line2D at 0x1bb4ffdfac8>]"
      ]
     },
     "execution_count": 89,
     "metadata": {},
     "output_type": "execute_result"
    },
    {
     "data": {
      "text/plain": [
       "Text(0.5, 1.0, 'prediction and actual comparison')"
      ]
     },
     "execution_count": 89,
     "metadata": {},
     "output_type": "execute_result"
    },
    {
     "data": {
      "text/plain": [
       "Text(0, 0.5, 'Solar Power')"
      ]
     },
     "execution_count": 89,
     "metadata": {},
     "output_type": "execute_result"
    },
    {
     "data": {
      "text/plain": [
       "Text(0.5, 0, 'datetime')"
      ]
     },
     "execution_count": 89,
     "metadata": {},
     "output_type": "execute_result"
    },
    {
     "data": {
      "text/plain": [
       "<matplotlib.legend.Legend at 0x1bb4ffcc278>"
      ]
     },
     "execution_count": 89,
     "metadata": {},
     "output_type": "execute_result"
    },
    {
     "data": {
      "image/png": "[encoded data removed]",
      "text/plain": [
       "<Figure size 1440x864 with 1 Axes>"
      ]
     },
     "metadata": {
      "needs_background": "light"
     },
     "output_type": "display_data"
    }
   ],
   "source": [
    "# summarize history for accuracy\n",
    "\n",
    "#plt.figure(figsize=(50,10))\n",
    "plt.plot(y_predict[:100],'r.')\n",
    "plt.plot(test_labels[:100],'b.')\n",
    "\n",
    "plt.title('prediction and actual comparison')\n",
    "plt.ylabel('Solar Power')\n",
    "plt.xlabel('datetime')\n",
    "plt.legend(['prediction', 'actual'], loc='best')\n",
    "\n",
    "plt.show()"
   ]
  },
  {
   "cell_type": "markdown",
   "metadata": {
    "ExecuteTime": {
     "end_time": "2020-02-25T07:58:12.001391Z",
     "start_time": "2020-02-25T07:58:11.996417Z"
    }
   },
   "source": [
    "# Submission"
   ]
  },
  {
   "cell_type": "code",
   "execution_count": 75,
   "metadata": {
    "ExecuteTime": {
     "end_time": "2020-02-25T08:00:32.020746Z",
     "start_time": "2020-02-25T08:00:32.012828Z"
    }
   },
   "outputs": [
    {
     "data": {
      "text/plain": [
       "Index(['Season', 'TeamID', 'Opp_TeamID', 'Pred', 'Seed_Number',\n",
       "       'Opp_Seed_Number', 'Seed_diff', 'Seed_Group_W', 'Seed_Group_X',\n",
       "       'Seed_Group_Y', 'Seed_Group_Z', 'Opp_Seed_Group_W', 'Opp_Seed_Group_X',\n",
       "       'Opp_Seed_Group_Y', 'Opp_Seed_Group_Z', 'Team_Winrate',\n",
       "       'Opp_Team_Winrate'],\n",
       "      dtype='object')"
      ]
     },
     "execution_count": 75,
     "metadata": {},
     "output_type": "execute_result"
    }
   ],
   "source": [
    "training_data.columns"
   ]
  },
  {
   "cell_type": "code",
   "execution_count": 83,
   "metadata": {
    "ExecuteTime": {
     "end_time": "2020-02-25T08:19:32.496530Z",
     "start_time": "2020-02-25T08:19:32.441674Z"
    }
   },
   "outputs": [
    {
     "data": {
      "text/html": [
       "<div>\n",
       "<style scoped>\n",
       "    .dataframe tbody tr th:only-of-type {\n",
       "        vertical-align: middle;\n",
       "    }\n",
       "\n",
       "    .dataframe tbody tr th {\n",
       "        vertical-align: top;\n",
       "    }\n",
       "\n",
       "    .dataframe thead th {\n",
       "        text-align: right;\n",
       "    }\n",
       "</style>\n",
       "<table border=\"1\" class=\"dataframe\">\n",
       "  <thead>\n",
       "    <tr style=\"text-align: right;\">\n",
       "      <th></th>\n",
       "      <th>Pred</th>\n",
       "    </tr>\n",
       "  </thead>\n",
       "  <tbody>\n",
       "    <tr>\n",
       "      <th>0</th>\n",
       "      <td>0.526280</td>\n",
       "    </tr>\n",
       "    <tr>\n",
       "      <th>1</th>\n",
       "      <td>0.526280</td>\n",
       "    </tr>\n",
       "    <tr>\n",
       "      <th>2</th>\n",
       "      <td>0.526280</td>\n",
       "    </tr>\n",
       "    <tr>\n",
       "      <th>3</th>\n",
       "      <td>0.346253</td>\n",
       "    </tr>\n",
       "    <tr>\n",
       "      <th>4</th>\n",
       "      <td>0.298346</td>\n",
       "    </tr>\n",
       "    <tr>\n",
       "      <th>...</th>\n",
       "      <td>...</td>\n",
       "    </tr>\n",
       "    <tr>\n",
       "      <th>11385</th>\n",
       "      <td>0.298346</td>\n",
       "    </tr>\n",
       "    <tr>\n",
       "      <th>11386</th>\n",
       "      <td>0.346253</td>\n",
       "    </tr>\n",
       "    <tr>\n",
       "      <th>11387</th>\n",
       "      <td>0.346253</td>\n",
       "    </tr>\n",
       "    <tr>\n",
       "      <th>11388</th>\n",
       "      <td>0.346253</td>\n",
       "    </tr>\n",
       "    <tr>\n",
       "      <th>11389</th>\n",
       "      <td>0.346253</td>\n",
       "    </tr>\n",
       "  </tbody>\n",
       "</table>\n",
       "<p>11390 rows × 1 columns</p>\n",
       "</div>"
      ],
      "text/plain": [
       "           Pred\n",
       "0      0.526280\n",
       "1      0.526280\n",
       "2      0.526280\n",
       "3      0.346253\n",
       "4      0.298346\n",
       "...         ...\n",
       "11385  0.298346\n",
       "11386  0.346253\n",
       "11387  0.346253\n",
       "11388  0.346253\n",
       "11389  0.346253\n",
       "\n",
       "[11390 rows x 1 columns]"
      ]
     },
     "execution_count": 83,
     "metadata": {},
     "output_type": "execute_result"
    },
    {
     "name": "stderr",
     "output_type": "stream",
     "text": [
      "<ipython-input-83-6df3d47d5303>:5: SettingWithCopyWarning: \n",
      "A value is trying to be set on a copy of a slice from a DataFrame.\n",
      "Try using .loc[row_indexer,col_indexer] = value instead\n",
      "\n",
      "See the caveats in the documentation: https://pandas.pydata.org/pandas-docs/stable/user_guide/indexing.html#returning-a-view-versus-a-copy\n",
      "  submission['Pred'] = prediction_df['Pred']\n"
     ]
    },
    {
     "data": {
      "text/html": [
       "<div>\n",
       "<style scoped>\n",
       "    .dataframe tbody tr th:only-of-type {\n",
       "        vertical-align: middle;\n",
       "    }\n",
       "\n",
       "    .dataframe tbody tr th {\n",
       "        vertical-align: top;\n",
       "    }\n",
       "\n",
       "    .dataframe thead th {\n",
       "        text-align: right;\n",
       "    }\n",
       "</style>\n",
       "<table border=\"1\" class=\"dataframe\">\n",
       "  <thead>\n",
       "    <tr style=\"text-align: right;\">\n",
       "      <th></th>\n",
       "      <th>ID</th>\n",
       "      <th>Pred</th>\n",
       "    </tr>\n",
       "  </thead>\n",
       "  <tbody>\n",
       "    <tr>\n",
       "      <th>0</th>\n",
       "      <td>2015_1107_1112</td>\n",
       "      <td>0.526280</td>\n",
       "    </tr>\n",
       "    <tr>\n",
       "      <th>1</th>\n",
       "      <td>2015_1107_1116</td>\n",
       "      <td>0.526280</td>\n",
       "    </tr>\n",
       "    <tr>\n",
       "      <th>2</th>\n",
       "      <td>2015_1107_1124</td>\n",
       "      <td>0.526280</td>\n",
       "    </tr>\n",
       "    <tr>\n",
       "      <th>3</th>\n",
       "      <td>2015_1107_1125</td>\n",
       "      <td>0.346253</td>\n",
       "    </tr>\n",
       "    <tr>\n",
       "      <th>4</th>\n",
       "      <td>2015_1107_1129</td>\n",
       "      <td>0.298346</td>\n",
       "    </tr>\n",
       "    <tr>\n",
       "      <th>...</th>\n",
       "      <td>...</td>\n",
       "      <td>...</td>\n",
       "    </tr>\n",
       "    <tr>\n",
       "      <th>11385</th>\n",
       "      <td>2019_1449_1459</td>\n",
       "      <td>0.298346</td>\n",
       "    </tr>\n",
       "    <tr>\n",
       "      <th>11386</th>\n",
       "      <td>2019_1449_1463</td>\n",
       "      <td>0.346253</td>\n",
       "    </tr>\n",
       "    <tr>\n",
       "      <th>11387</th>\n",
       "      <td>2019_1458_1459</td>\n",
       "      <td>0.346253</td>\n",
       "    </tr>\n",
       "    <tr>\n",
       "      <th>11388</th>\n",
       "      <td>2019_1458_1463</td>\n",
       "      <td>0.346253</td>\n",
       "    </tr>\n",
       "    <tr>\n",
       "      <th>11389</th>\n",
       "      <td>2019_1459_1463</td>\n",
       "      <td>0.346253</td>\n",
       "    </tr>\n",
       "  </tbody>\n",
       "</table>\n",
       "<p>11390 rows × 2 columns</p>\n",
       "</div>"
      ],
      "text/plain": [
       "                   ID      Pred\n",
       "0      2015_1107_1112  0.526280\n",
       "1      2015_1107_1116  0.526280\n",
       "2      2015_1107_1124  0.526280\n",
       "3      2015_1107_1125  0.346253\n",
       "4      2015_1107_1129  0.298346\n",
       "...               ...       ...\n",
       "11385  2019_1449_1459  0.298346\n",
       "11386  2019_1449_1463  0.346253\n",
       "11387  2019_1458_1459  0.346253\n",
       "11388  2019_1458_1463  0.346253\n",
       "11389  2019_1459_1463  0.346253\n",
       "\n",
       "[11390 rows x 2 columns]"
      ]
     },
     "execution_count": 83,
     "metadata": {},
     "output_type": "execute_result"
    }
   ],
   "source": [
    "prediction_df = pd.DataFrame({'Pred':preds})\n",
    "prediction_df\n",
    "\n",
    "submission = submission_file[['ID','Pred']]\n",
    "submission['Pred'] = prediction_df['Pred']\n",
    "\n",
    "submission\n",
    "submission.to_csv('submission_file_clf_.csv', index=False)"
   ]
  },
  {
   "cell_type": "raw",
   "metadata": {
    "ExecuteTime": {
     "end_time": "2020-02-25T08:19:33.484886Z",
     "start_time": "2020-02-25T08:19:33.278439Z"
    }
   },
   "source": [
    "prediction_df['Pred'].hist()"
   ]
  },
  {
   "cell_type": "markdown",
   "metadata": {},
   "source": [
    "# Reference\n",
    "- Primary: [google-cloud-ncaa-march-madness-2020-division-1-mens-tournament](https://www.kaggle.com/c/google-cloud-ncaa-march-madness-2020-division-1-mens-tournament)\n",
    "- Secondary:"
   ]
  },
  {
   "cell_type": "code",
   "execution_count": 55,
   "metadata": {
    "ExecuteTime": {
     "end_time": "2020-02-28T04:58:06.141895Z",
     "start_time": "2020-02-28T04:58:05.640664Z"
    }
   },
   "outputs": [
    {
     "name": "stdout",
     "output_type": "stream",
     "text": [
      "Data loaded\n"
     ]
    }
   ],
   "source": [
    "csv_path='https://www.toronto.ca/ext/open_data/catalog/data_set_files/2016_neighbourhood_profiles.csv'\n",
    "df = pd.read_csv(csv_path,encoding='latin1')\n",
    "print('Data loaded')\n",
    "\n",
    "\n",
    "Neighbourhoods = list(df.columns.values)\n",
    "Neighbourhoods = Neighbourhoods[5:]\n",
    "\n",
    "\n",
    "dfToronto = pd.DataFrame(index=Neighbourhoods, columns=[\"2016 Population\",\"2016 Income\"])\n",
    "\n",
    "for index, row in dfToronto.iterrows():\n",
    "    dfToronto.at[index, '2016 Population'] = df[index][2]\n",
    "    dfToronto.at[index, '2016 Income'] = df[index][2264]\n",
    "\n",
    "dfToronto['2016 Income'] = dfToronto['2016 Income'].str.replace(',', '').astype(int)\n",
    "dfToronto['2016 Population'] = dfToronto['2016 Population'].str.replace(',', '').astype(int)\n"
   ]
  },
  {
   "cell_type": "code",
   "execution_count": 57,
   "metadata": {
    "ExecuteTime": {
     "end_time": "2020-02-28T04:58:16.518966Z",
     "start_time": "2020-02-28T04:58:16.510965Z"
    }
   },
   "outputs": [
    {
     "data": {
      "text/html": [
       "<div>\n",
       "<style scoped>\n",
       "    .dataframe tbody tr th:only-of-type {\n",
       "        vertical-align: middle;\n",
       "    }\n",
       "\n",
       "    .dataframe tbody tr th {\n",
       "        vertical-align: top;\n",
       "    }\n",
       "\n",
       "    .dataframe thead th {\n",
       "        text-align: right;\n",
       "    }\n",
       "</style>\n",
       "<table border=\"1\" class=\"dataframe\">\n",
       "  <thead>\n",
       "    <tr style=\"text-align: right;\">\n",
       "      <th></th>\n",
       "      <th>2016 Population</th>\n",
       "      <th>2016 Income</th>\n",
       "    </tr>\n",
       "  </thead>\n",
       "  <tbody>\n",
       "    <tr>\n",
       "      <th>Bridle Path-Sunnybrook-York Mills</th>\n",
       "      <td>9266</td>\n",
       "      <td>308010</td>\n",
       "    </tr>\n",
       "    <tr>\n",
       "      <th>Rosedale-Moore Park</th>\n",
       "      <td>20923</td>\n",
       "      <td>207903</td>\n",
       "    </tr>\n",
       "    <tr>\n",
       "      <th>Forest Hill South</th>\n",
       "      <td>10732</td>\n",
       "      <td>204521</td>\n",
       "    </tr>\n",
       "    <tr>\n",
       "      <th>Lawrence Park South</th>\n",
       "      <td>15179</td>\n",
       "      <td>169203</td>\n",
       "    </tr>\n",
       "    <tr>\n",
       "      <th>Casa Loma</th>\n",
       "      <td>10968</td>\n",
       "      <td>165047</td>\n",
       "    </tr>\n",
       "    <tr>\n",
       "      <th>Kingsway South</th>\n",
       "      <td>9271</td>\n",
       "      <td>144642</td>\n",
       "    </tr>\n",
       "    <tr>\n",
       "      <th>Leaside-Bennington</th>\n",
       "      <td>16828</td>\n",
       "      <td>125564</td>\n",
       "    </tr>\n",
       "    <tr>\n",
       "      <th>Bedford Park-Nortown</th>\n",
       "      <td>23236</td>\n",
       "      <td>123077</td>\n",
       "    </tr>\n",
       "    <tr>\n",
       "      <th>Yonge-St.Clair</th>\n",
       "      <td>12528</td>\n",
       "      <td>114174</td>\n",
       "    </tr>\n",
       "    <tr>\n",
       "      <th>Annex</th>\n",
       "      <td>30526</td>\n",
       "      <td>112766</td>\n",
       "    </tr>\n",
       "  </tbody>\n",
       "</table>\n",
       "</div>"
      ],
      "text/plain": [
       "                                   2016 Population  2016 Income\n",
       "Bridle Path-Sunnybrook-York Mills             9266       308010\n",
       "Rosedale-Moore Park                          20923       207903\n",
       "Forest Hill South                            10732       204521\n",
       "Lawrence Park South                          15179       169203\n",
       "Casa Loma                                    10968       165047\n",
       "Kingsway South                                9271       144642\n",
       "Leaside-Bennington                           16828       125564\n",
       "Bedford Park-Nortown                         23236       123077\n",
       "Yonge-St.Clair                               12528       114174\n",
       "Annex                                        30526       112766"
      ]
     },
     "execution_count": 57,
     "metadata": {},
     "output_type": "execute_result"
    }
   ],
   "source": [
    "x = dfToronto.sort_values(by=[\"2016 Income\"], ascending=False).head(10)\n",
    "x"
   ]
  },
  {
   "cell_type": "code",
   "execution_count": 58,
   "metadata": {
    "ExecuteTime": {
     "end_time": "2020-02-28T04:58:18.639828Z",
     "start_time": "2020-02-28T04:58:18.631837Z"
    }
   },
   "outputs": [
    {
     "data": {
      "text/html": [
       "<div>\n",
       "<style scoped>\n",
       "    .dataframe tbody tr th:only-of-type {\n",
       "        vertical-align: middle;\n",
       "    }\n",
       "\n",
       "    .dataframe tbody tr th {\n",
       "        vertical-align: top;\n",
       "    }\n",
       "\n",
       "    .dataframe thead th {\n",
       "        text-align: right;\n",
       "    }\n",
       "</style>\n",
       "<table border=\"1\" class=\"dataframe\">\n",
       "  <thead>\n",
       "    <tr style=\"text-align: right;\">\n",
       "      <th></th>\n",
       "      <th>2016 Population</th>\n",
       "      <th>2016 Income</th>\n",
       "    </tr>\n",
       "  </thead>\n",
       "  <tbody>\n",
       "    <tr>\n",
       "      <th>Annex</th>\n",
       "      <td>30526</td>\n",
       "      <td>112766</td>\n",
       "    </tr>\n",
       "    <tr>\n",
       "      <th>Bedford Park-Nortown</th>\n",
       "      <td>23236</td>\n",
       "      <td>123077</td>\n",
       "    </tr>\n",
       "    <tr>\n",
       "      <th>Rosedale-Moore Park</th>\n",
       "      <td>20923</td>\n",
       "      <td>207903</td>\n",
       "    </tr>\n",
       "    <tr>\n",
       "      <th>Leaside-Bennington</th>\n",
       "      <td>16828</td>\n",
       "      <td>125564</td>\n",
       "    </tr>\n",
       "    <tr>\n",
       "      <th>Lawrence Park South</th>\n",
       "      <td>15179</td>\n",
       "      <td>169203</td>\n",
       "    </tr>\n",
       "    <tr>\n",
       "      <th>Yonge-St.Clair</th>\n",
       "      <td>12528</td>\n",
       "      <td>114174</td>\n",
       "    </tr>\n",
       "    <tr>\n",
       "      <th>Casa Loma</th>\n",
       "      <td>10968</td>\n",
       "      <td>165047</td>\n",
       "    </tr>\n",
       "    <tr>\n",
       "      <th>Forest Hill South</th>\n",
       "      <td>10732</td>\n",
       "      <td>204521</td>\n",
       "    </tr>\n",
       "    <tr>\n",
       "      <th>Kingsway South</th>\n",
       "      <td>9271</td>\n",
       "      <td>144642</td>\n",
       "    </tr>\n",
       "    <tr>\n",
       "      <th>Bridle Path-Sunnybrook-York Mills</th>\n",
       "      <td>9266</td>\n",
       "      <td>308010</td>\n",
       "    </tr>\n",
       "  </tbody>\n",
       "</table>\n",
       "</div>"
      ],
      "text/plain": [
       "                                   2016 Population  2016 Income\n",
       "Annex                                        30526       112766\n",
       "Bedford Park-Nortown                         23236       123077\n",
       "Rosedale-Moore Park                          20923       207903\n",
       "Leaside-Bennington                           16828       125564\n",
       "Lawrence Park South                          15179       169203\n",
       "Yonge-St.Clair                               12528       114174\n",
       "Casa Loma                                    10968       165047\n",
       "Forest Hill South                            10732       204521\n",
       "Kingsway South                                9271       144642\n",
       "Bridle Path-Sunnybrook-York Mills             9266       308010"
      ]
     },
     "execution_count": 58,
     "metadata": {},
     "output_type": "execute_result"
    }
   ],
   "source": [
    "x.sort_values(by=['2016 Population'], ascending=False, inplace=True)\n",
    "x"
   ]
  }
 ],
 "metadata": {
  "kernelspec": {
   "display_name": "Python 3",
   "language": "python",
   "name": "python3"
  },
  "language_info": {
   "codemirror_mode": {
    "name": "ipython",
    "version": 3
   },
   "file_extension": ".py",
   "mimetype": "text/x-python",
   "name": "python",
   "nbconvert_exporter": "python",
   "pygments_lexer": "ipython3",
   "version": "3.6.10"
  },
  "toc": {
   "base_numbering": 1,
   "nav_menu": {
    "height": "10px",
    "width": "160px"
   },
   "number_sections": true,
   "sideBar": true,
   "skip_h1_title": false,
   "title_cell": "Table of Contents",
   "title_sidebar": "Contents",
   "toc_cell": false,
   "toc_position": {
    "height": "calc(100% - 180px)",
    "left": "10px",
    "top": "150px",
    "width": "165px"
   },
   "toc_section_display": true,
   "toc_window_display": false
  },
  "varInspector": {
   "cols": {
    "lenName": 16,
    "lenType": 16,
    "lenVar": 40
   },
   "kernels_config": {
    "python": {
     "delete_cmd_postfix": "",
     "delete_cmd_prefix": "del ",
     "library": "var_list.py",
     "varRefreshCmd": "print(var_dic_list())"
    },
    "r": {
     "delete_cmd_postfix": ") ",
     "delete_cmd_prefix": "rm(",
     "library": "var_list.r",
     "varRefreshCmd": "cat(var_dic_list()) "
    }
   },
   "position": {
    "height": "524px",
    "left": "1550px",
    "right": "20px",
    "top": "120px",
    "width": "350px"
   },
   "types_to_exclude": [
    "module",
    "function",
    "builtin_function_or_method",
    "instance",
    "_Feature"
   ],
   "window_display": false
  }
 },
 "nbformat": 4,
 "nbformat_minor": 2
}
