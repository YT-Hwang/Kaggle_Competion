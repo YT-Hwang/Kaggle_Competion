{
 "cells": [
  {
   "cell_type": "markdown",
   "metadata": {},
   "source": [
    "# Overview"
   ]
  },
  {
   "cell_type": "markdown",
   "metadata": {
    "ExecuteTime": {
     "end_time": "2020-02-17T22:14:02.059084Z",
     "start_time": "2020-02-17T22:14:02.056083Z"
    }
   },
   "source": [
    "## What to Predict\n",
    "\n",
    "- Stage 1 - You should submit predicted probabilities for every possible matchup in the past 5 NCAA® tournaments (seasons 2015-2019).\n",
    "- Stage 2 - You should submit predicted probabilities for every possible matchup before the 2020 tournament begins.\n",
    "\n",
    "Refer to the Timeline page for specific dates. In both stages, the sample submission will tell you which games to predict."
   ]
  },
  {
   "cell_type": "markdown",
   "metadata": {
    "ExecuteTime": {
     "end_time": "2020-02-17T22:21:00.576973Z",
     "start_time": "2020-02-17T22:21:00.574983Z"
    }
   },
   "source": [
    "# Import Packages"
   ]
  },
  {
   "cell_type": "code",
   "execution_count": 12,
   "metadata": {
    "ExecuteTime": {
     "end_time": "2020-02-17T22:26:00.325535Z",
     "start_time": "2020-02-17T22:26:00.319534Z"
    }
   },
   "outputs": [],
   "source": [
    "import pandas as pd\n",
    "import numpy as np\n",
    "\n",
    "import matplotlib.pylab as plt\n",
    "from matplotlib.pylab import rcParams\n",
    "#rcParams['figure.figsize'] = 20, 6\n",
    "%matplotlib inline\n",
    "\n",
    "from IPython.core.interactiveshell import InteractiveShell\n",
    "InteractiveShell.ast_node_interactivity = \"all\""
   ]
  },
  {
   "cell_type": "markdown",
   "metadata": {
    "heading_collapsed": true
   },
   "source": [
    "# Data Download"
   ]
  },
  {
   "cell_type": "code",
   "execution_count": 2,
   "metadata": {
    "code_folding": [],
    "hidden": true
   },
   "outputs": [
    {
     "name": "stdout",
     "output_type": "stream",
     "text": [
      "Downloading google-cloud-ncaa-march-madness-2020-division-1-mens-tournament.zip to F:\\OneDrive - Georgia State University\\Data Science\\Competition\\Google Cloud & NCAA® ML Competition 2020-NCAAM\n",
      "\n"
     ]
    },
    {
     "name": "stderr",
     "output_type": "stream",
     "text": [
      "\n",
      "  0%|          | 0.00/120M [00:00<?, ?B/s]\n",
      "  2%|1         | 2.00M/120M [00:00<00:07, 17.3MB/s]\n",
      "  4%|4         | 5.00M/120M [00:00<00:06, 19.7MB/s]\n",
      "  7%|6         | 8.00M/120M [00:00<00:05, 21.9MB/s]\n",
      "  9%|9         | 11.0M/120M [00:00<00:04, 23.7MB/s]\n",
      " 12%|#1        | 14.0M/120M [00:00<00:04, 25.2MB/s]\n",
      " 14%|#4        | 17.0M/120M [00:00<00:04, 26.3MB/s]\n",
      " 17%|#6        | 20.0M/120M [00:00<00:03, 27.1MB/s]\n",
      " 19%|#9        | 23.0M/120M [00:00<00:03, 27.7MB/s]\n",
      " 22%|##1       | 26.0M/120M [00:00<00:03, 28.2MB/s]\n",
      " 24%|##4       | 29.0M/120M [00:01<00:03, 28.5MB/s]\n",
      " 27%|##6       | 32.0M/120M [00:01<00:03, 23.5MB/s]\n",
      " 29%|##9       | 35.0M/120M [00:01<00:03, 24.7MB/s]\n",
      " 34%|###4      | 41.0M/120M [00:01<00:02, 29.0MB/s]\n",
      " 37%|###7      | 45.0M/120M [00:01<00:02, 29.1MB/s]\n",
      " 41%|####      | 49.0M/120M [00:01<00:02, 29.0MB/s]\n",
      " 43%|####3     | 52.0M/120M [00:01<00:02, 29.0MB/s]\n",
      " 46%|####5     | 55.0M/120M [00:02<00:02, 29.0MB/s]\n",
      " 48%|####8     | 58.0M/120M [00:02<00:02, 29.1MB/s]\n",
      " 51%|#####     | 61.0M/120M [00:02<00:02, 29.2MB/s]\n",
      " 53%|#####3    | 64.0M/120M [00:02<00:03, 18.3MB/s]\n",
      " 61%|######    | 73.0M/120M [00:02<00:02, 23.8MB/s]\n",
      " 64%|######4   | 77.0M/120M [00:02<00:01, 25.3MB/s]\n",
      " 67%|######7   | 81.0M/120M [00:02<00:01, 26.4MB/s]\n",
      " 71%|#######   | 85.0M/120M [00:03<00:01, 27.2MB/s]\n",
      " 74%|#######4  | 89.0M/120M [00:03<00:01, 27.8MB/s]\n",
      " 77%|#######7  | 93.0M/120M [00:03<00:01, 28.2MB/s]\n",
      " 80%|#######9  | 96.0M/120M [00:03<00:00, 28.6MB/s]\n",
      " 82%|########2 | 99.0M/120M [00:03<00:00, 28.8MB/s]\n",
      " 85%|########4 | 102M/120M [00:04<00:01, 15.7MB/s] \n",
      " 89%|########9 | 107M/120M [00:04<00:00, 19.8MB/s]\n",
      " 95%|#########4| 114M/120M [00:04<00:00, 24.8MB/s]\n",
      " 98%|#########8| 118M/120M [00:04<00:00, 26.0MB/s]\n",
      "100%|##########| 120M/120M [00:04<00:00, 28.2MB/s]\n"
     ]
    }
   ],
   "source": [
    "# Downloading the Data using Kaggle API\n",
    "!kaggle competitions download -c google-cloud-ncaa-march-madness-2020-division-1-mens-tournament"
   ]
  },
  {
   "cell_type": "markdown",
   "metadata": {
    "ExecuteTime": {
     "end_time": "2020-02-17T22:20:46.338242Z",
     "start_time": "2020-02-17T22:20:46.336242Z"
    }
   },
   "source": [
    "# Data Import"
   ]
  },
  {
   "cell_type": "code",
   "execution_count": 7,
   "metadata": {
    "ExecuteTime": {
     "end_time": "2020-02-17T22:24:21.268325Z",
     "start_time": "2020-02-17T22:24:21.263324Z"
    },
    "code_folding": [
     1
    ]
   },
   "outputs": [],
   "source": [
    "# Getting all the files in the directory.\n",
    "def existing_file_list(path):\n",
    "    ''' Extracting File Names '''\n",
    "\n",
    "    allFiles = glob.glob(path + \"/*.csv\")\n",
    "    new_list = []\n",
    "    for i in allFiles:\n",
    "        before = 'original\\\\'\n",
    "        after = '_minute'\n",
    "        ticker = i[i.find(before) + len(before) : i.find(after)]\n",
    "        new_list.append(ticker)    \n",
    "    #list_ticker = list(filter(None, text))  # drop all the empty elements and put them in a list\n",
    "        \n",
    "    return (new_list)"
   ]
  },
  {
   "cell_type": "code",
   "execution_count": 13,
   "metadata": {
    "ExecuteTime": {
     "end_time": "2020-02-17T22:26:02.111939Z",
     "start_time": "2020-02-17T22:26:02.103938Z"
    }
   },
   "outputs": [
    {
     "data": {
      "text/plain": [
       "'F:\\\\OneDrive - Georgia State University\\\\Data Science\\\\Competition\\\\Google Cloud & NCAA® ML Competition 2020-NCAAM\\\\Data\\\\raw\\\\'"
      ]
     },
     "execution_count": 13,
     "metadata": {},
     "output_type": "execute_result"
    },
    {
     "data": {
      "text/plain": [
       "['MEvents2015.csv',\n",
       " 'MEvents2016.csv',\n",
       " 'MEvents2017.csv',\n",
       " 'MEvents2018.csv',\n",
       " 'MEvents2019.csv',\n",
       " 'MPlayers.csv',\n",
       " 'MSampleSubmissionStage1_2020.csv']"
      ]
     },
     "execution_count": 13,
     "metadata": {},
     "output_type": "execute_result"
    }
   ],
   "source": [
    "datapath = 'F:\\\\OneDrive - Georgia State University\\\\Data Science\\\\Competition\\\\Google Cloud & NCAA® ML Competition 2020-NCAAM\\\\Data\\\\raw\\\\'\n",
    "\n",
    "from os import listdir\n",
    "from os.path import isfile, join\n",
    "main_data_list = [f for f in listdir(datapath) if isfile(join(datapath, f))]\n",
    "\n",
    "datapath\n",
    "main_data_list"
   ]
  },
  {
   "cell_type": "code",
   "execution_count": null,
   "metadata": {},
   "outputs": [],
   "source": [
    "#element_types = pd.read_csv(datapath + 'element_types.xlsx',index_col='id', engine = 'python')\n",
    "bootstrap = pd.read_excel(datapath + 'bootstrap.xlsx',index_col='id')\n",
    "main_data = pd.read_csv(datapath + 'merged_gw.csv', index_col=['id', 'fixture'], engine = 'python')\n",
    "MPlayers = pd.read_csv(datapath + 'MPlayers.csv', index_col='PlayerID, TeamID')\n"
   ]
  },
  {
   "cell_type": "markdown",
   "metadata": {
    "ExecuteTime": {
     "end_time": "2020-02-17T22:08:41.608927Z",
     "start_time": "2020-02-17T22:08:41.605935Z"
    }
   },
   "source": [
    "# Data Exploratory Analysis"
   ]
  },
  {
   "cell_type": "code",
   "execution_count": null,
   "metadata": {},
   "outputs": [],
   "source": []
  },
  {
   "cell_type": "markdown",
   "metadata": {},
   "source": [
    "# Reference"
   ]
  },
  {
   "cell_type": "markdown",
   "metadata": {},
   "source": [
    "- Primary: [google-cloud-ncaa-march-madness-2020-division-1-mens-tournament](https://www.kaggle.com/c/google-cloud-ncaa-march-madness-2020-division-1-mens-tournament)\n",
    "- Secondary:"
   ]
  }
 ],
 "metadata": {
  "kernelspec": {
   "display_name": "kaggle",
   "language": "python",
   "name": "kaggle"
  },
  "language_info": {
   "codemirror_mode": {
    "name": "ipython",
    "version": 3
   },
   "file_extension": ".py",
   "mimetype": "text/x-python",
   "name": "python",
   "nbconvert_exporter": "python",
   "pygments_lexer": "ipython3",
   "version": "3.8.1"
  },
  "toc": {
   "base_numbering": 1,
   "nav_menu": {
    "height": "10px",
    "width": "160px"
   },
   "number_sections": true,
   "sideBar": true,
   "skip_h1_title": false,
   "title_cell": "Table of Contents",
   "title_sidebar": "Contents",
   "toc_cell": false,
   "toc_position": {},
   "toc_section_display": true,
   "toc_window_display": false
  },
  "varInspector": {
   "cols": {
    "lenName": 16,
    "lenType": 16,
    "lenVar": 40
   },
   "kernels_config": {
    "python": {
     "delete_cmd_postfix": "",
     "delete_cmd_prefix": "del ",
     "library": "var_list.py",
     "varRefreshCmd": "print(var_dic_list())"
    },
    "r": {
     "delete_cmd_postfix": ") ",
     "delete_cmd_prefix": "rm(",
     "library": "var_list.r",
     "varRefreshCmd": "cat(var_dic_list()) "
    }
   },
   "types_to_exclude": [
    "module",
    "function",
    "builtin_function_or_method",
    "instance",
    "_Feature"
   ],
   "window_display": false
  }
 },
 "nbformat": 4,
 "nbformat_minor": 2
}
